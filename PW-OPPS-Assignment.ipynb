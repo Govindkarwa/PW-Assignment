{
 "cells": [
  {
   "cell_type": "code",
   "execution_count": 1,
   "id": "a182713e",
   "metadata": {},
   "outputs": [
    {
     "name": "stdout",
     "output_type": "stream",
     "text": [
      "Bark!\n"
     ]
    }
   ],
   "source": [
    "# 1. Create a parent class Animal with a method speak() that prints a generic message. Create a child class Dog that overrides the speak() method to print \"Bark!\".\n",
    "class Animal:\n",
    "    def speak(self):\n",
    "        print(\"Animal makes a sound\")\n",
    "\n",
    "class Dog(Animal):\n",
    "    def speak(self):\n",
    "        print(\"Bark!\")\n",
    "\n",
    "dog=Dog()\n",
    "dog.speak() #output: Bark!\n",
    "\n"
   ]
  },
  {
   "cell_type": "code",
   "execution_count": null,
   "id": "1d35ef33",
   "metadata": {},
   "outputs": [
    {
     "name": "stdout",
     "output_type": "stream",
     "text": [
      "Circle Area: 78.50\n",
      "Rectangle Area: 24.00\n"
     ]
    }
   ],
   "source": [
    "#2. Write a program to create an abstract class Shape with a method area(). Derive classes Circle and Rectangle from it and implement the area() method in both.\n",
    "from abc import ABC, abstractmethod\n",
    "\n",
    "class Shape(ABC):\n",
    "    @abstractmethod\n",
    "    def area(self):\n",
    "        pass  # Abstract method that must be implemented by subclasses\n",
    "\n",
    "# Circle class inheriting from Shape\n",
    "class Circle(Shape):\n",
    "    def __init__(self, radius):\n",
    "        self.radius = radius\n",
    "\n",
    "    def area(self):\n",
    "        return 3.14 * self.radius ** 2  # Area of circle formula\n",
    "\n",
    "# Rectangle class inheriting from Shape\n",
    "class Rectangle(Shape):\n",
    "    def __init__(self, width, height):\n",
    "        self.width = width\n",
    "        self.height = height\n",
    "\n",
    "    def area(self):\n",
    "        return self.width * self.height\n",
    "\n",
    "# Creating instances and calculating areas\n",
    "circle = Circle(5)\n",
    "rectangle = Rectangle(4, 6)\n",
    "\n",
    "print(f\"Circle Area: {circle.area():.2f}\") #Output: Circle Area: 78.50\n",
    "print(f\"Rectangle Area: {rectangle.area():.2f}\") #Output: Rectangle Area: 24.00\n",
    "\n",
    "\n"
   ]
  },
  {
   "cell_type": "code",
   "execution_count": null,
   "id": "bd4fe24d",
   "metadata": {},
   "outputs": [
    {
     "name": "stdout",
     "output_type": "stream",
     "text": [
      "Vehicle Type: Electric\n"
     ]
    }
   ],
   "source": [
    "#3.Implement a multi-level inheritance scenario where a class Vehicle has an attribute type. Derive a class Car and further derive a class ElectricCar that adds a battery attribute.\n",
    "class Vehicle:\n",
    "    def __init__(self, type):\n",
    "        self.type = type\n",
    "\n",
    "    def display_type(self):\n",
    "        print(f\"Vehicle Type: {self.type}\")\n",
    "\n",
    "class Car(Vehicle):\n",
    "    def __init__(self, type, model):\n",
    "        super().__init__(type)\n",
    "        self.model = model\n",
    "\n",
    "    def display_model(self):\n",
    "        print(f\"Car Model: {self.model}\")\n",
    "\n",
    "class ElectricCar(Car):\n",
    "    def __init__(self, type, model, battery):\n",
    "        super().__init__(type, model)\n",
    "        self.battery = battery\n",
    "\n",
    "    def display_battery(self):\n",
    "        print(f\"Electric Car Battery: {self.battery} kWh\")\n",
    "\n",
    "# Creating an instance of ElectricCar\n",
    "electric_car = ElectricCar(\"Electric\", \"Tesla Model S\", 100)\n",
    "electric_car.display_type()  # Output: Vehicle Type: Electric\n",
    "electric_car.display_model() # Output: Car Model: Tesla Model S\n",
    "electric_car.display_battery() # Output: Battery Capacity: 100 kwh\n"
   ]
  },
  {
   "cell_type": "code",
   "execution_count": null,
   "id": "cef6d249",
   "metadata": {},
   "outputs": [
    {
     "name": "stdout",
     "output_type": "stream",
     "text": [
      "Bird can fly\n",
      "Sparrow can fly high\n",
      "penguin cannot fly\n"
     ]
    }
   ],
   "source": [
    "#4. Demonstrate polymorphism by creating a base class Bird with a method fly(). Create two derived classes Sparrow and Penguin that override the fly() method. \n",
    "class bird:\n",
    "    def fly(self):\n",
    "        print(\"Bird can fly\")\n",
    "\n",
    "class sparrow(bird):\n",
    "    def fly(self):\n",
    "        print(\"Sparrow can fly high\")\n",
    "\n",
    "class penguin(bird):\n",
    "    def fly(self):\n",
    "        print(\"penguin cannot fly\")\n",
    "\n",
    "b=bird()\n",
    "s=sparrow()\n",
    "p=penguin()\n",
    "\n",
    "b.fly() #output:Bird can fly\n",
    "s.fly() #output:Sparrow can fly high\n",
    "p.fly() #output:penguin cannot fly\n",
    "\n",
    "\n",
    "        "
   ]
  },
  {
   "cell_type": "code",
   "execution_count": 50,
   "id": "4164c917",
   "metadata": {},
   "outputs": [
    {
     "name": "stdout",
     "output_type": "stream",
     "text": [
      "Current Balance: ₹1000.00\n",
      "Deposited: ₹500.00\n",
      "Current Balance: ₹1500.00\n",
      "Withdrew: ₹200.00\n",
      "Current Balance: ₹1300.00\n",
      "Insufficient funds or invalid withdrawal amount.\n"
     ]
    }
   ],
   "source": [
    "#5. Write a program to demonstrate encapsulation by creating a class BankAccount with private attributes balance and methods to deposit, withdraw, and check balance.\n",
    "class BankAccount:\n",
    "    def __init__(self, initial_balance=0):\n",
    "        self.__balance = initial_balance  # Private attribute\n",
    "\n",
    "    def deposit(self, amount):\n",
    "        if amount > 0:\n",
    "            self.__balance += amount\n",
    "            print(f\"Deposited: ₹{amount:.2f}\")\n",
    "        else:\n",
    "            print(\"Deposit amount must be positive.\")\n",
    "\n",
    "    def withdraw(self, amount):\n",
    "        if 0 < amount <= self.__balance:\n",
    "            self.__balance -= amount\n",
    "            print(f\"Withdrew: ₹{amount:.2f}\")\n",
    "        else:\n",
    "            print(\"Insufficient funds or invalid withdrawal amount.\")\n",
    "\n",
    "    def check_balance(self):\n",
    "        print(f\"Current Balance: ₹{self.__balance:.2f}\")\n",
    "# Creating an instance of bank account\n",
    "account= BankAccount(1000)\n",
    "account.check_balance() #Output: current balance:₹1000.00\n",
    "account.deposit(500) #Output: Deposited: ₹500.00\n",
    "account.check_balance() #Output: current balance:₹1500.00\n",
    "account.withdraw(200) #Output:Withdrew: ₹200.00\n",
    "account.check_balance() #Output: current balance:₹1300.00\n",
    "account.withdraw(1500) #Output:Insufficient funds or invalid withdrawal amount.\n"
   ]
  },
  {
   "cell_type": "code",
   "execution_count": null,
   "id": "11d59474",
   "metadata": {},
   "outputs": [
    {
     "name": "stdout",
     "output_type": "stream",
     "text": [
      "Playing the Guitar\n",
      "playing the Piano\n"
     ]
    }
   ],
   "source": [
    "# 6. Demonstrate runtime polymorphism using a method play() in a base class Instrument. Derive classes Guitar and Piano that implement their own version of play()\n",
    "class Instrument:\n",
    "    def play(self):\n",
    "        print(\"Playing an Instrument\")\n",
    "class Guitar(Instrument):\n",
    "    def play(self):\n",
    "        print(\"Playing the Guitar\")\n",
    "class Piano(Instrument):\n",
    "    def play(self):\n",
    "        print(\"playing the Piano\")\n",
    "        \n",
    "# Creating an instance of Guitar and Piano\n",
    "guitar=Guitar()\n",
    "piano=Piano()\n",
    "guitar.play()  #OutPut: Playing the Guitar\n",
    "piano.play()  #OutPut: playing the Piano\n"
   ]
  },
  {
   "cell_type": "code",
   "execution_count": null,
   "id": "2202c8e8",
   "metadata": {},
   "outputs": [
    {
     "name": "stdout",
     "output_type": "stream",
     "text": [
      "11\n",
      "7\n"
     ]
    }
   ],
   "source": [
    "# 7. Create a class MathOperations with a class method add_numbers() to add two numbers and a static method subtract_numbers() to subtract two numbers\n",
    "\n",
    "class MathOperations:\n",
    "\n",
    "    @classmethod\n",
    "    def add_numbers(cls,a,b):\n",
    "        return a+b\n",
    "    \n",
    "    @staticmethod\n",
    "    def subtract_numbers(a,b):\n",
    "        return a-b\n",
    "    \n",
    "# using the class method and static method \n",
    "result_add = MathOperations.add_numbers(5,6) \n",
    "print(result_add) #output: 11\n",
    "result_subtract =MathOperations.subtract_numbers(10,3)\n",
    "print(result_subtract) #output:7"
   ]
  },
  {
   "cell_type": "code",
   "execution_count": 15,
   "id": "48fb10dc",
   "metadata": {},
   "outputs": [
    {
     "name": "stdout",
     "output_type": "stream",
     "text": [
      "Total persons created: 2\n",
      "Total persons created: 3\n"
     ]
    }
   ],
   "source": [
    "# 8.Implement a class Person with a class method to count the total number of persons created\n",
    "class person:\n",
    "    count=0 # class variable to keep track of the number of the persons created\n",
    "\n",
    "    def __init__(self,name):\n",
    "        self.name = name\n",
    "        person.count +=1\n",
    "    \n",
    "    @classmethod\n",
    "    def total_persons(cls):\n",
    "        return cls.count  # Returns the total number of persons created\n",
    "# Creating instance of person\n",
    "p1 = person(\"ABC\")\n",
    "p2=person(\"XYZ\")\n",
    "print(f\"Total persons created: {person.total_persons()}\")  # Output: Total persons created: 2\n",
    "p3=person(\"PQR\")\n",
    "print(f\"Total persons created: {person.total_persons()}\")  # Output: Total persons created: 3\n",
    "\n",
    "\n"
   ]
  },
  {
   "cell_type": "code",
   "execution_count": 16,
   "id": "9a5af405",
   "metadata": {},
   "outputs": [
    {
     "name": "stdout",
     "output_type": "stream",
     "text": [
      "3/4\n"
     ]
    }
   ],
   "source": [
    "#  9. Write a class Fraction with attributes numerator and denominator. Override the str method to display the fraction as \"numerator/denominator\".\n",
    "class Fraction:\n",
    "    def __init__(self, numerator, denominator):\n",
    "        self.numerator = numerator\n",
    "        self.denominator = denominator\n",
    "\n",
    "    def __str__(self):\n",
    "        return f\"{self.numerator}/{self.denominator}\"\n",
    "# Creating instance of Fraction\n",
    "fraction = Fraction(3,4)\n",
    "print(fraction) # Output: 3/4\n"
   ]
  },
  {
   "cell_type": "code",
   "execution_count": null,
   "id": "ec42db4d",
   "metadata": {},
   "outputs": [
    {
     "name": "stdout",
     "output_type": "stream",
     "text": [
      "(4, 6)\n"
     ]
    }
   ],
   "source": [
    "# 10. Demonstrate operator overloading by creating a class Vector and overriding the add method to add two vectors.\n",
    "\n",
    "class Vector:\n",
    "    def __init__(self, x, y):\n",
    "        self.x = x\n",
    "        self.y = y\n",
    "\n",
    "    def __add__(self, other):\n",
    "        return Vector(self.x + other.x, self.y + other.y)\n",
    "\n",
    "    def __str__(self):\n",
    "        return f\"({self.x}, {self.y})\"\n",
    "\n",
    "# Creating vector instances\n",
    "v1 = Vector(3, 4)\n",
    "v2 = Vector(1, 2)\n",
    "\n",
    "# Using the overloaded '+' operator\n",
    "v3 = v1 + v2  \n",
    "print(v3)  # Output: (4, 6)\n"
   ]
  },
  {
   "cell_type": "code",
   "execution_count": null,
   "id": "8430b970",
   "metadata": {},
   "outputs": [
    {
     "name": "stdout",
     "output_type": "stream",
     "text": [
      "Hello, my name is Govind and I am 25 years old\n"
     ]
    }
   ],
   "source": [
    "#11. Create a class Person with attributes name and age. Add a method greet() that prints \"Hello, my name is {name} and I am {age} years old\".\n",
    "class person:\n",
    "    def __init__(self,name,age):\n",
    "        self.name=name\n",
    "        self.age=age\n",
    "    def greet(self):\n",
    "        print(f\"Hello, my name is {self.name} and I am {self.age} years old\")\n",
    "\n",
    "#creating instance of person\n",
    "p = person(\"Govind\",25)\n",
    "p.greet() #Output: Hello, my name is Govind and I am 25 years old\n",
    "        "
   ]
  },
  {
   "cell_type": "code",
   "execution_count": null,
   "id": "993f118a",
   "metadata": {},
   "outputs": [
    {
     "name": "stdout",
     "output_type": "stream",
     "text": [
      "86.25\n",
      "Student: Alice, Average Grade: 86.25\n"
     ]
    }
   ],
   "source": [
    "# 12.Implement a class Student with attributes name and grades. Create a method average_grade() to compute the average of the grades.\n",
    "class Student:\n",
    "    def __init__(self, name, *grades):\n",
    "        self.name = name\n",
    "        self.grades = grades  # List of grades\n",
    "\n",
    "    def average_grade(self):\n",
    "        return sum(self.grades) / len(self.grades) if self.grades else 0\n",
    "\n",
    "    def __str__(self):\n",
    "        return f\"Student: {self.name}, Average Grade: {self.average_grade():.2f}\"\n",
    "\n",
    "# Creating an instance of Student\n",
    "student1 = Student(\"Alice\", 85,90,78,92)\n",
    "\n",
    "print(student1.average_grade())  # Output: 86.25\n",
    "print(student1)# Output: Student: Alice, Average Grade: 86.25"
   ]
  },
  {
   "cell_type": "code",
   "execution_count": null,
   "id": "d87c3d95",
   "metadata": {},
   "outputs": [
    {
     "name": "stdout",
     "output_type": "stream",
     "text": [
      "Area of Rectangle:75\n"
     ]
    }
   ],
   "source": [
    "# 13. Create a class Rectangle with methods set_dimensions() to set the dimensions and area() to calculate the area.\n",
    "class Rectangle:\n",
    "    def __init__(self):\n",
    "        self.width = 0\n",
    "        self.height = 0\n",
    "\n",
    "    def set_dimensions(self, width, height):\n",
    "        self.width = width\n",
    "        self.height = height\n",
    "\n",
    "    def area(self):\n",
    "        return self.width * self.height\n",
    "# Creating an instance of Rectangle \n",
    "rectangle = Rectangle()\n",
    "rectangle.set_dimensions(5,15)\n",
    "print(f\"Area of Rectangle:{rectangle.area()}\") # Output: Area of Rectangle:75\n"
   ]
  },
  {
   "cell_type": "code",
   "execution_count": null,
   "id": "1a7f7e07",
   "metadata": {},
   "outputs": [
    {
     "name": "stdout",
     "output_type": "stream",
     "text": [
      "Employee Salary: ₹8000\n",
      "Manager Salary: ₹17000\n"
     ]
    }
   ],
   "source": [
    "#14. Create a class Employee with a method calculate_salary() that computes the salary based on hours worked and hourly rate. Create a derived class Manager that adds a bonus to the salary.\n",
    "class Employee:\n",
    "    def __init__(self, hours_worked, hourly_rate):\n",
    "        self.hours_worked = hours_worked\n",
    "        self.hourly_rate = hourly_rate\n",
    "\n",
    "    def calculate_salary(self):\n",
    "        return self.hours_worked * self.hourly_rate\n",
    "    \n",
    "class Manager(Employee):\n",
    "    def __init__(self, hours_worked, hourly_rate, bonus):\n",
    "        super().__init__(hours_worked, hourly_rate)\n",
    "        self.bonus = bonus\n",
    "\n",
    "    def calculate_salary(self):\n",
    "        return super().calculate_salary() + self.bonus\n",
    "\n",
    "# Creating instances of Employee and Manager\n",
    "employee = Employee(40, 200)  # 40 hours at ₹200/hour\n",
    "manager = Manager(40, 300, 5000)  # 40 hours at ₹300/hour with a ₹5000 bonus\n",
    "print(f\"Employee Salary: ₹{employee.calculate_salary()}\")  # Output: Employee Salary: ₹8000\n",
    "print(f\"Manager Salary: ₹{manager.calculate_salary()}\")  # Output: Manager Salary: ₹17000\n"
   ]
  },
  {
   "cell_type": "code",
   "execution_count": null,
   "id": "caa0ce3b",
   "metadata": {},
   "outputs": [
    {
     "name": "stdout",
     "output_type": "stream",
     "text": [
      "Total price of Mobile is :₹30000\n"
     ]
    }
   ],
   "source": [
    "#15. Create a class Product with attributes name, price, and quantity. Implement a method total_price() that calculates the total price of the product.\n",
    "class Product:\n",
    "    def __init__(self, name, price, quantity):\n",
    "        self.name = name\n",
    "        self.price = price\n",
    "        self.quantity = quantity\n",
    "\n",
    "    def total_price(self):\n",
    "        return self.price * self.quantity\n",
    "\n",
    "# Creating an instance of Product\n",
    "product1 = Product(\"Mobile\",15000,2) \n",
    "print(f\"Total price of {product1.name} is :₹{product1.total_price()}\") # output: Total price of Mobile is :₹30000"
   ]
  },
  {
   "cell_type": "code",
   "execution_count": 38,
   "id": "f6ee9b74",
   "metadata": {},
   "outputs": [
    {
     "name": "stdout",
     "output_type": "stream",
     "text": [
      "Cow sound: Moo\n",
      "Sheep sound: Baa\n"
     ]
    }
   ],
   "source": [
    "# 16.Create a class Animal with an abstract method sound(). Create two derived classes Cow and Sheep that implement the sound() method\n",
    "from abc import ABC, abstractmethod\n",
    "class Animal(ABC):\n",
    "    @abstractmethod\n",
    "    def sound(self):\n",
    "        pass  # Abstract method that must be implemented by subclasses\n",
    "class Cow(Animal):\n",
    "    def sound(self):\n",
    "        return \"Moo\"\n",
    "class Sheep(Animal):\n",
    "    def sound(self):\n",
    "        return \"Baa\"\n",
    "# creating onject of cow and sheep\n",
    "coe=Cow()\n",
    "sheep=Sheep()\n",
    "print(f\"Cow sound: {coe.sound()}\")  # Output: Cow sound: Moo\n",
    "print(f\"Sheep sound: {sheep.sound()}\")  # Output: Sheep sound: Baa\n"
   ]
  },
  {
   "cell_type": "code",
   "execution_count": null,
   "id": "56621c0a",
   "metadata": {},
   "outputs": [
    {
     "name": "stdout",
     "output_type": "stream",
     "text": [
      "'The mid night library' by Matt Haig, published in 2020\n"
     ]
    }
   ],
   "source": [
    "#  17. Create a class Book with attributes title, author, and year_published. Add a method get_book_info() that returns a formatted string with the book's details\n",
    "class Book:\n",
    "    def __init__(self, title, author, year_published):\n",
    "        self.title = title\n",
    "        self.author = author\n",
    "        self.year_published = year_published\n",
    "\n",
    "    def get_book_info(self):\n",
    "        return f\"'{self.title}' by {self.author}, published in {self.year_published}\"\n",
    "# Creating the instance of Book \n",
    "book=Book(\"The mid night library\",\"Matt Haig\",2020)\n",
    "print(book.get_book_info())  # Output: 'The Midnight Library' by Matt Haig, published in 2020\n"
   ]
  },
  {
   "cell_type": "code",
   "execution_count": 49,
   "id": "033fdfbc",
   "metadata": {},
   "outputs": [
    {
     "name": "stdout",
     "output_type": "stream",
     "text": [
      "Mansion at 123 Luxury Street XYZ, Bikaner costs ₹12,00,000 with 5 rooms\n"
     ]
    }
   ],
   "source": [
    "# 18. Create a class House with attributes address and price. Create a derived class Mansion that adds an attribute number_of_rooms\n",
    "class House:\n",
    "    def __init__(self, address, price):\n",
    "        self.address = address\n",
    "        self.price = price\n",
    "\n",
    "    def get_info(self):\n",
    "        return f\"House at {self.address} costs ₹{self.price}\"\n",
    "class Mansion(House):\n",
    "    def __init__(self, address, price, number_of_rooms):\n",
    "        super().__init__(address, price)\n",
    "        self.number_of_rooms = number_of_rooms\n",
    "\n",
    "    def get_info(self):\n",
    "        return f\"Mansion at {self.address} costs ₹{self.price} with {self.number_of_rooms} rooms\"\n",
    "# Creating an insatnce of Mansion\n",
    "mansion = Mansion(\"123 Luxury Street XYZ, Bikaner\",\"12,00,000\",5)\n",
    "print(mansion.get_info()) #output: Mansion at 123 Luxury Street XYZ, Bikaner costs ₹12,00,000 with 5 rooms"
   ]
  }
 ],
 "metadata": {
  "kernelspec": {
   "display_name": "Python 3",
   "language": "python",
   "name": "python3"
  },
  "language_info": {
   "codemirror_mode": {
    "name": "ipython",
    "version": 3
   },
   "file_extension": ".py",
   "mimetype": "text/x-python",
   "name": "python",
   "nbconvert_exporter": "python",
   "pygments_lexer": "ipython3",
   "version": "3.12.3"
  }
 },
 "nbformat": 4,
 "nbformat_minor": 5
}
