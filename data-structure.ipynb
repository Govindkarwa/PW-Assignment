{
 "cells": [
  {
   "cell_type": "code",
   "execution_count": 1,
   "id": "81d2fb56",
   "metadata": {},
   "outputs": [
    {
     "name": "stdout",
     "output_type": "stream",
     "text": [
      "Govind Karwa\n"
     ]
    }
   ],
   "source": [
    "# 1. Write a code to create a string with your name and print it\n",
    "name = \"Govind Karwa\"\n",
    "print(name)"
   ]
  },
  {
   "cell_type": "code",
   "execution_count": 32,
   "id": "f9816a64",
   "metadata": {},
   "outputs": [
    {
     "name": "stdout",
     "output_type": "stream",
     "text": [
      "The length of the string 'Hello World' is 11.\n"
     ]
    }
   ],
   "source": [
    "# 2.Write a code to find the length of the string \"Hello World\"\n",
    "string = \"Hello World\"\n",
    "length = len(string)\n",
    "print(f\"The length of the string '{string}' is {length}.\")"
   ]
  },
  {
   "cell_type": "code",
   "execution_count": 33,
   "id": "4c017681",
   "metadata": {},
   "outputs": [
    {
     "name": "stdout",
     "output_type": "stream",
     "text": [
      "The first 3 characters of 'Python Programming' are 'Pyt'.\n"
     ]
    }
   ],
   "source": [
    "# 3. Write a code to slice the first 3 characters from the string \"Python Programming\"\n",
    "string = \"Python Programming\"\n",
    "sliced_string = string[:3]\n",
    "print(f\"The first 3 characters of '{string}' are '{sliced_string}'.\")"
   ]
  },
  {
   "cell_type": "code",
   "execution_count": 34,
   "id": "de482277",
   "metadata": {},
   "outputs": [
    {
     "name": "stdout",
     "output_type": "stream",
     "text": [
      "The uppercase version of 'hello' is 'HELLO'.\n"
     ]
    }
   ],
   "source": [
    "# 4. Write a code to convert the string \"hello\" to uppercase\n",
    "string = \"hello\"\n",
    "uppercase_string = string.upper()   \n",
    "print(f\"The uppercase version of '{string}' is '{uppercase_string}'.\")"
   ]
  },
  {
   "cell_type": "code",
   "execution_count": 35,
   "id": "bb13ea7e",
   "metadata": {},
   "outputs": [
    {
     "name": "stdout",
     "output_type": "stream",
     "text": [
      "The string after replacement is: 'I like orange'.\n"
     ]
    }
   ],
   "source": [
    "# 5.Write a code to replace the word \"apple\" with \"orange\" in the string \"I like apple\"\n",
    "string = \"I like apple\"\n",
    "replaced_string = string.replace(\"apple\", \"orange\")\n",
    "print(f\"The string after replacement is: '{replaced_string}'.\")"
   ]
  },
  {
   "cell_type": "code",
   "execution_count": 36,
   "id": "3ca83e35",
   "metadata": {},
   "outputs": [
    {
     "name": "stdout",
     "output_type": "stream",
     "text": [
      "The list of numbers from 1 to 5 is: [1, 2, 3, 4, 5]\n"
     ]
    }
   ],
   "source": [
    "# 6.Write a code to create a list with numbers 1 to 5 and print it\n",
    "numbers = [1, 2, 3, 4, 5]\n",
    "print(\"The list of numbers from 1 to 5 is:\", numbers)"
   ]
  },
  {
   "cell_type": "code",
   "execution_count": 37,
   "id": "c05ff7ab",
   "metadata": {},
   "outputs": [
    {
     "name": "stdout",
     "output_type": "stream",
     "text": [
      "The list after appending 10 is: [1, 2, 3, 4, 10]\n"
     ]
    }
   ],
   "source": [
    "# 7. Write a code to append the number 10 to the list [1, 2, 3, 4]\n",
    "numbers = [1, 2, 3, 4]\n",
    "numbers.append(10)\n",
    "print(\"The list after appending 10 is:\", numbers)"
   ]
  },
  {
   "cell_type": "code",
   "execution_count": 38,
   "id": "a523d2ec",
   "metadata": {},
   "outputs": [
    {
     "name": "stdout",
     "output_type": "stream",
     "text": [
      "The list after removing 3 is: [1, 2, 4, 5]\n"
     ]
    }
   ],
   "source": [
    "# 8.Write a code to remove the number 3 from the list [1, 2, 3, 4, 5]\n",
    "numbers = [1, 2, 3, 4, 5]\n",
    "numbers.remove(3)   \n",
    "print(\"The list after removing 3 is:\", numbers)"
   ]
  },
  {
   "cell_type": "code",
   "execution_count": 39,
   "id": "eccd33a5",
   "metadata": {},
   "outputs": [
    {
     "name": "stdout",
     "output_type": "stream",
     "text": [
      "The second element in the list is: 'b'.\n"
     ]
    }
   ],
   "source": [
    "# 9.Write a code to access the second element in the list ['a', 'b', 'c', 'd']\n",
    "letters = ['a', 'b', 'c', 'd']\n",
    "second_element = letters[1]\n",
    "print(f\"The second element in the list is: '{second_element}'.\")"
   ]
  },
  {
   "cell_type": "code",
   "execution_count": 40,
   "id": "25ec45aa",
   "metadata": {},
   "outputs": [
    {
     "name": "stdout",
     "output_type": "stream",
     "text": [
      "The reversed list is: [50, 40, 30, 20, 10]\n"
     ]
    }
   ],
   "source": [
    "# 10. Write a code to reverse the list [10, 20, 30, 40, 50].\n",
    "numbers = [10, 20, 30, 40, 50]\n",
    "numbers.reverse()\n",
    "print(\"The reversed list is:\", numbers)"
   ]
  },
  {
   "cell_type": "code",
   "execution_count": 41,
   "id": "49ad5a60",
   "metadata": {},
   "outputs": [
    {
     "name": "stdout",
     "output_type": "stream",
     "text": [
      "The tuple is: (100, 200, 300)\n"
     ]
    }
   ],
   "source": [
    "#11.Write a code to create a tuple with the elements 100, 200, 300 and print it\n",
    "numbers = (100, 200, 300)\n",
    "print(\"The tuple is:\", numbers)\n"
   ]
  },
  {
   "cell_type": "code",
   "execution_count": 42,
   "id": "955b49f2",
   "metadata": {},
   "outputs": [
    {
     "name": "stdout",
     "output_type": "stream",
     "text": [
      "The second-to-last color in the tuple is: 'blue'.\n"
     ]
    }
   ],
   "source": [
    "# 12. Write a code to access the second-to-last element of the tuple ('red', 'green', 'blue', 'yellow').\n",
    "colors = ('red', 'green', 'blue', 'yellow')\n",
    "second_to_last_color = colors[-2]\n",
    "print(f\"The second-to-last color in the tuple is: '{second_to_last_color}'.\")"
   ]
  },
  {
   "cell_type": "code",
   "execution_count": 43,
   "id": "2e8549a3",
   "metadata": {},
   "outputs": [
    {
     "name": "stdout",
     "output_type": "stream",
     "text": [
      "The minimum number in the tuple is: 5\n"
     ]
    }
   ],
   "source": [
    "#13. Write a code to find the minimum number in the tuple (10, 20, 5, 15).\n",
    "numbers = (10, 20, 5, 15)\n",
    "min_number = min(numbers)\n",
    "print(f\"The minimum number in the tuple is: {min_number}\")"
   ]
  },
  {
   "cell_type": "code",
   "execution_count": 44,
   "id": "70cf584f",
   "metadata": {},
   "outputs": [
    {
     "name": "stdout",
     "output_type": "stream",
     "text": [
      "The index of 'cat' in the tuple is: 1\n"
     ]
    }
   ],
   "source": [
    "#14. Write a code to find the index of the element \"cat\" in the tuple ('dog', 'cat', 'rabbit')\n",
    "animals = ('dog', 'cat', 'rabbit')\n",
    "index_of_cat = animals.index('cat')\n",
    "print(f\"The index of 'cat' in the tuple is: {index_of_cat}\")"
   ]
  },
  {
   "cell_type": "code",
   "execution_count": 45,
   "id": "52cec79b",
   "metadata": {},
   "outputs": [
    {
     "name": "stdout",
     "output_type": "stream",
     "text": [
      "Is 'kiwi' in the tuple? No\n"
     ]
    }
   ],
   "source": [
    "#15. Write a code to create a tuple containing three different fruits and check if \"kiwi\" is in it\n",
    "fruits = ('apple', 'banana', 'orange')\n",
    "is_kiwi_in_tuple =\"Yes\"if 'kiwi' in fruits else \"No\"\n",
    "print(f\"Is 'kiwi' in the tuple? {is_kiwi_in_tuple}\")"
   ]
  },
  {
   "cell_type": "code",
   "execution_count": 46,
   "id": "5b542cf0",
   "metadata": {},
   "outputs": [
    {
     "name": "stdout",
     "output_type": "stream",
     "text": [
      "The set is: {'b', 'a', 'c'}\n"
     ]
    }
   ],
   "source": [
    "#16.Write a code to create a set with the elements 'a', 'b', 'c' and print it\n",
    "alphabet = {'a', 'b', 'c'}\n",
    "print(\"The set is:\", alphabet)"
   ]
  },
  {
   "cell_type": "code",
   "execution_count": 47,
   "id": "ba87071c",
   "metadata": {},
   "outputs": [
    {
     "name": "stdout",
     "output_type": "stream",
     "text": [
      "The set before clearing all elements is: {1, 2, 3, 4, 5}\n",
      "The set after clearing all elements is: set()\n"
     ]
    }
   ],
   "source": [
    "#17. Write a code to clear all elements from the set {1, 2, 3, 4, 5}.\n",
    "numbers = {1, 2, 3, 4, 5}\n",
    "print(\"The set before clearing all elements is:\", numbers)\n",
    "numbers.clear() \n",
    "print(\"The set after clearing all elements is:\", numbers)"
   ]
  },
  {
   "cell_type": "code",
   "execution_count": 48,
   "id": "8000e17e",
   "metadata": {},
   "outputs": [
    {
     "name": "stdout",
     "output_type": "stream",
     "text": [
      "The set after removing 4 is: {1, 2, 3}\n"
     ]
    }
   ],
   "source": [
    "#18. Write a code to remove the element 4 from the set {1, 2, 3, 4}\n",
    "numbers = {1, 2, 3, 4}\n",
    "numbers.discard(4)\n",
    "print(\"The set after removing 4 is:\", numbers)\n"
   ]
  },
  {
   "cell_type": "code",
   "execution_count": 49,
   "id": "0fc138c1",
   "metadata": {},
   "outputs": [
    {
     "name": "stdout",
     "output_type": "stream",
     "text": [
      "The union of the two sets is: {1, 2, 3, 4, 5}\n"
     ]
    }
   ],
   "source": [
    "#19. Write a code to find the union of two sets {1, 2, 3} and {3, 4, 5}\n",
    "set1 = {1, 2, 3}\n",
    "set2 = {3, 4, 5}\n",
    "union_set = set1.union(set2)\n",
    "print(\"The union of the two sets is:\", union_set)"
   ]
  },
  {
   "cell_type": "code",
   "execution_count": 50,
   "id": "8f7667de",
   "metadata": {},
   "outputs": [
    {
     "name": "stdout",
     "output_type": "stream",
     "text": [
      "The intersection of the two sets is: {2, 3}\n"
     ]
    }
   ],
   "source": [
    "#20. Write a code to find the intersection of two sets {1, 2, 3} and {2, 3, 4}\n",
    "set1 = {1, 2, 3}\n",
    "set2 = {2, 3, 4}\n",
    "intersection_set = set1.intersection(set2)\n",
    "print(\"The intersection of the two sets is:\", intersection_set)\n"
   ]
  },
  {
   "cell_type": "code",
   "execution_count": 51,
   "id": "f549c1af",
   "metadata": {},
   "outputs": [
    {
     "name": "stdout",
     "output_type": "stream",
     "text": [
      "The dictionary is: {'name': 'Govind', 'age': 25, 'city': 'Jaipur'}\n"
     ]
    }
   ],
   "source": [
    "#21. Write a code to create a dictionary with the keys \"name\", \"age\", and \"city\", and print it\n",
    "person = {\n",
    "    \"name\": \"Govind\",\n",
    "    \"age\": 25,\n",
    "    \"city\": \"Jaipur\"\n",
    "}\n",
    "print(\"The dictionary is:\", person)"
   ]
  },
  {
   "cell_type": "code",
   "execution_count": 52,
   "id": "fcaecd87",
   "metadata": {},
   "outputs": [
    {
     "name": "stdout",
     "output_type": "stream",
     "text": [
      "The dictionary after adding a new key-value pair is: {'name': 'John', 'age': 25, 'country': 'USA'}\n"
     ]
    }
   ],
   "source": [
    "# 22. Write a code to add a new key-value pair \"country\": \"USA\" to the dictionary {'name': 'John', 'age': 25}.\n",
    "person = {'name': 'John', 'age': 25}\n",
    "person['country'] = 'USA'\n",
    "print(\"The dictionary after adding a new key-value pair is:\", person)"
   ]
  },
  {
   "cell_type": "code",
   "execution_count": 53,
   "id": "7c11e1b3",
   "metadata": {},
   "outputs": [
    {
     "name": "stdout",
     "output_type": "stream",
     "text": [
      "The value associated with the key 'name' is: 'Alice'.\n"
     ]
    }
   ],
   "source": [
    "# 23. Write a code to access the value associated with the key \"name\" in the dictionary {'name': 'Alice', 'age': 30}.\n",
    "person = {'name': 'Alice', 'age': 30}\n",
    "name_value = person['name']\n",
    "print(f\"The value associated with the key 'name' is: '{name_value}'.\")"
   ]
  },
  {
   "cell_type": "code",
   "execution_count": 54,
   "id": "0e1eb899",
   "metadata": {},
   "outputs": [
    {
     "name": "stdout",
     "output_type": "stream",
     "text": [
      "The dictionary before removing the key 'age' is: {'name': 'Bob', 'age': 22, 'city': 'New York'}\n",
      "The dictionary after removing the key 'age' is: {'name': 'Bob', 'city': 'New York'}\n"
     ]
    }
   ],
   "source": [
    "# 24. Write a code to remove the key \"age\" from the dictionary {'name': 'Bob', 'age': 22, 'city': 'New York'}\n",
    "person = {'name': 'Bob', 'age': 22, 'city': 'New York'}\n",
    "print(\"The dictionary before removing the key 'age' is:\", person)\n",
    "del person['age']\n",
    "print(\"The dictionary after removing the key 'age' is:\", person)\n"
   ]
  },
  {
   "cell_type": "code",
   "execution_count": 55,
   "id": "7cc9b936",
   "metadata": {},
   "outputs": [
    {
     "name": "stdout",
     "output_type": "stream",
     "text": [
      "Does the key 'city' exist in the dictionary? True\n"
     ]
    }
   ],
   "source": [
    "#25. Write a code to check if the key \"city\" exists in the dictionary {'name': 'Alice', 'city': 'Paris'}.\n",
    "person = {'name': 'Alice', 'city': 'Paris'}\n",
    "key_to_check = 'city'\n",
    "key_exists = key_to_check in person\n",
    "print(f\"Does the key '{key_to_check}' exist in the dictionary? {key_exists}\")   \n"
   ]
  },
  {
   "cell_type": "code",
   "execution_count": 56,
   "id": "4bffb47c",
   "metadata": {},
   "outputs": [
    {
     "name": "stdout",
     "output_type": "stream",
     "text": [
      "List: [1, 2, 3]\n",
      "Tuple: (4, 5, 6)\n",
      "Dictionary: {'name': 'Govind', 'city': 'Jaipur'}\n"
     ]
    }
   ],
   "source": [
    "# 26. Write a code to create a list, a tuple, and a dictionary, and print them all.\n",
    "my_list = [1, 2, 3]\n",
    "my_tuple = (4, 5, 6)\n",
    "my_dict = {'name':\"Govind\", 'city': \"Jaipur\"}\n",
    "print(\"List:\", my_list)\n",
    "print(\"Tuple:\", my_tuple)\n",
    "print(\"Dictionary:\", my_dict)"
   ]
  },
  {
   "cell_type": "code",
   "execution_count": 57,
   "id": "051d353a",
   "metadata": {},
   "outputs": [
    {
     "name": "stdout",
     "output_type": "stream",
     "text": [
      "The sorted list of random numbers is: [37, 61, 64, 70, 99]\n"
     ]
    }
   ],
   "source": [
    "#27.Write a code to create a list of 5 random numbers between 1 and 100, sort it in ascending order, and print the result.(replaced)\n",
    "import random\n",
    "random_numbers = random.sample(range(1, 101), 5)\n",
    "random_numbers.sort()\n",
    "print(\"The sorted list of random numbers is:\", random_numbers)"
   ]
  },
  {
   "cell_type": "code",
   "execution_count": 58,
   "id": "54b97447",
   "metadata": {},
   "outputs": [
    {
     "name": "stdout",
     "output_type": "stream",
     "text": [
      "The element at the third index is: 'date'\n"
     ]
    }
   ],
   "source": [
    "#28 Write a code to create a list with strings and print the element at the third index\n",
    "my_list = [\"apple\", \"banana\", \"cherry\", \"date\", \"elderberry\"]\n",
    "third_index_element = my_list[3]\n",
    "print(f\"The element at the third index is: '{third_index_element}'\")"
   ]
  },
  {
   "cell_type": "code",
   "execution_count": 59,
   "id": "8ac2d6ee",
   "metadata": {},
   "outputs": [
    {
     "name": "stdout",
     "output_type": "stream",
     "text": [
      "The combined dictionary is: {'a': 1, 'b': 2, 'c': 3, 'd': 4}\n"
     ]
    }
   ],
   "source": [
    "# 29.Write a code to combine two dictionaries into one and print the result.\n",
    "dict1 = {'a': 1, 'b': 2}\n",
    "dict2 = {'c': 3, 'd': 4}\n",
    "combined_dict = {**dict1, **dict2}\n",
    "# we can also use dict1.update(dict2) to combine\n",
    "# the dictionaries\n",
    "print(\"The combined dictionary is:\", combined_dict)"
   ]
  },
  {
   "cell_type": "code",
   "execution_count": 60,
   "id": "b9961aed",
   "metadata": {},
   "outputs": [
    {
     "name": "stdout",
     "output_type": "stream",
     "text": [
      "The original list of strings is: ['apple', 'banana', 'apple', 'orange']\n",
      "The set created from the list of strings is: {'apple', 'banana', 'orange'}\n"
     ]
    }
   ],
   "source": [
    "# 30. Write a code to convert a list of strings into a set\n",
    "string_list = [\"apple\", \"banana\", \"apple\", \"orange\"]\n",
    "print(\"The original list of strings is:\", string_list)\n",
    "string_set = set(string_list)\n",
    "print(\"The set created from the list of strings is:\", string_set)"
   ]
  }
 ],
 "metadata": {
  "kernelspec": {
   "display_name": "Python 3",
   "language": "python",
   "name": "python3"
  },
  "language_info": {
   "codemirror_mode": {
    "name": "ipython",
    "version": 3
   },
   "file_extension": ".py",
   "mimetype": "text/x-python",
   "name": "python",
   "nbconvert_exporter": "python",
   "pygments_lexer": "ipython3",
   "version": "3.12.3"
  }
 },
 "nbformat": 4,
 "nbformat_minor": 5
}
