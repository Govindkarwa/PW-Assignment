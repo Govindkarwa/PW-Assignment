{
 "cells": [
  {
   "cell_type": "code",
   "execution_count": 4,
   "id": "d206f6e6",
   "metadata": {},
   "outputs": [
    {
     "name": "stdout",
     "output_type": "stream",
     "text": [
      "The sum of even numbers in [12, 21, 34, 24, 25, 66] is: 136\n"
     ]
    }
   ],
   "source": [
    "# 1.Write a Python function that takes a list of numbers as input and returns the sum of all even numbers in the list.\n",
    "def sum_of_even_numbers(numbers):\n",
    "    \"\"\"\n",
    "    This function takes a list of numbers and returns the sum of all even numbers in the list.\n",
    "\n",
    "    :param numbers: List of numbers\n",
    "    :return: Sum of even numbers\n",
    "    \"\"\"\n",
    "    return sum(num for num in numbers if num % 2 == 0)\n",
    "\n",
    "# Example usage\n",
    "num_list=[12, 21, 34, 24, 25, 66]\n",
    "result = sum_of_even_numbers(num_list)\n",
    "print(f\"The sum of even numbers in {num_list} is: {result}\")"
   ]
  },
  {
   "cell_type": "code",
   "execution_count": 11,
   "id": "db6753d5",
   "metadata": {},
   "outputs": [
    {
     "name": "stdout",
     "output_type": "stream",
     "text": [
      "The reverse of 'Hello, World!' is: '!dlroW ,olleH'\n"
     ]
    }
   ],
   "source": [
    "#2. Create a Python function that accepts a string and returns the reverse of that string.\n",
    "def reverse_string(s):\n",
    "    \"\"\"\n",
    "    This function takes a string and returns the reverse of that string.\n",
    "\n",
    "    :param s: Input string\n",
    "    :return: Reversed string\n",
    "    \"\"\"\n",
    "    return s[::-1]\n",
    "# Example usage\n",
    "input_string = \"Hello, World!\"\n",
    "reversed_string = reverse_string(input_string)\n",
    "print(f\"The reverse of '{input_string}' is: '{reversed_string}'\")\n",
    "\n"
   ]
  },
  {
   "cell_type": "code",
   "execution_count": 12,
   "id": "1af5265a",
   "metadata": {},
   "outputs": [
    {
     "name": "stdout",
     "output_type": "stream",
     "text": [
      "The squares of [1, 2, 3, 4, 5] are: [1, 4, 9, 16, 25]\n"
     ]
    }
   ],
   "source": [
    "# 3.mplement a Python function that takes a list of integers and returns a new list containing the squares of each number\n",
    "def square_numbers(numbers):\n",
    "    \"\"\"\n",
    "    This function takes a list of integers and returns a new list containing the squares of each number.\n",
    "\n",
    "    :param numbers: List of integers\n",
    "    :return: List of squares\n",
    "    \"\"\"\n",
    "    return [num ** 2 for num in numbers]\n",
    "# Example usage\n",
    "num_list = [1, 2, 3, 4, 5]\n",
    "squared_list = square_numbers(num_list)\n",
    "print(f\"The squares of {num_list} are: {squared_list}\")"
   ]
  },
  {
   "cell_type": "code",
   "execution_count": 13,
   "id": "5ba6dfd1",
   "metadata": {},
   "outputs": [
    {
     "name": "stdout",
     "output_type": "stream",
     "text": [
      "1 is not a prime number.\n",
      "2 is a prime number.\n",
      "3 is a prime number.\n",
      "4 is not a prime number.\n",
      "5 is a prime number.\n",
      "6 is not a prime number.\n",
      "7 is a prime number.\n",
      "8 is not a prime number.\n",
      "9 is not a prime number.\n",
      "10 is not a prime number.\n",
      "11 is a prime number.\n",
      "12 is not a prime number.\n",
      "13 is a prime number.\n",
      "14 is not a prime number.\n",
      "15 is not a prime number.\n",
      "16 is not a prime number.\n",
      "17 is a prime number.\n",
      "18 is not a prime number.\n",
      "19 is a prime number.\n",
      "20 is not a prime number.\n",
      "21 is not a prime number.\n",
      "22 is not a prime number.\n",
      "23 is a prime number.\n",
      "24 is not a prime number.\n",
      "25 is not a prime number.\n",
      "26 is not a prime number.\n",
      "27 is not a prime number.\n",
      "28 is not a prime number.\n",
      "29 is a prime number.\n",
      "30 is not a prime number.\n",
      "31 is a prime number.\n",
      "32 is not a prime number.\n",
      "33 is not a prime number.\n",
      "34 is not a prime number.\n",
      "35 is not a prime number.\n",
      "36 is not a prime number.\n",
      "37 is a prime number.\n",
      "38 is not a prime number.\n",
      "39 is not a prime number.\n",
      "40 is not a prime number.\n",
      "41 is a prime number.\n",
      "42 is not a prime number.\n",
      "43 is a prime number.\n",
      "44 is not a prime number.\n",
      "45 is not a prime number.\n",
      "46 is not a prime number.\n",
      "47 is a prime number.\n",
      "48 is not a prime number.\n",
      "49 is not a prime number.\n",
      "50 is not a prime number.\n",
      "51 is not a prime number.\n",
      "52 is not a prime number.\n",
      "53 is a prime number.\n",
      "54 is not a prime number.\n",
      "55 is not a prime number.\n",
      "56 is not a prime number.\n",
      "57 is not a prime number.\n",
      "58 is not a prime number.\n",
      "59 is a prime number.\n",
      "60 is not a prime number.\n",
      "61 is a prime number.\n",
      "62 is not a prime number.\n",
      "63 is not a prime number.\n",
      "64 is not a prime number.\n",
      "65 is not a prime number.\n",
      "66 is not a prime number.\n",
      "67 is a prime number.\n",
      "68 is not a prime number.\n",
      "69 is not a prime number.\n",
      "70 is not a prime number.\n",
      "71 is a prime number.\n",
      "72 is not a prime number.\n",
      "73 is a prime number.\n",
      "74 is not a prime number.\n",
      "75 is not a prime number.\n",
      "76 is not a prime number.\n",
      "77 is not a prime number.\n",
      "78 is not a prime number.\n",
      "79 is a prime number.\n",
      "80 is not a prime number.\n",
      "81 is not a prime number.\n",
      "82 is not a prime number.\n",
      "83 is a prime number.\n",
      "84 is not a prime number.\n",
      "85 is not a prime number.\n",
      "86 is not a prime number.\n",
      "87 is not a prime number.\n",
      "88 is not a prime number.\n",
      "89 is a prime number.\n",
      "90 is not a prime number.\n",
      "91 is not a prime number.\n",
      "92 is not a prime number.\n",
      "93 is not a prime number.\n",
      "94 is not a prime number.\n",
      "95 is not a prime number.\n",
      "96 is not a prime number.\n",
      "97 is a prime number.\n",
      "98 is not a prime number.\n",
      "99 is not a prime number.\n",
      "100 is not a prime number.\n",
      "101 is a prime number.\n",
      "102 is not a prime number.\n",
      "103 is a prime number.\n",
      "104 is not a prime number.\n",
      "105 is not a prime number.\n",
      "106 is not a prime number.\n",
      "107 is a prime number.\n",
      "108 is not a prime number.\n",
      "109 is a prime number.\n",
      "110 is not a prime number.\n",
      "111 is not a prime number.\n",
      "112 is not a prime number.\n",
      "113 is a prime number.\n",
      "114 is not a prime number.\n",
      "115 is not a prime number.\n",
      "116 is not a prime number.\n",
      "117 is not a prime number.\n",
      "118 is not a prime number.\n",
      "119 is not a prime number.\n",
      "120 is not a prime number.\n",
      "121 is not a prime number.\n",
      "122 is not a prime number.\n",
      "123 is not a prime number.\n",
      "124 is not a prime number.\n",
      "125 is not a prime number.\n",
      "126 is not a prime number.\n",
      "127 is a prime number.\n",
      "128 is not a prime number.\n",
      "129 is not a prime number.\n",
      "130 is not a prime number.\n",
      "131 is a prime number.\n",
      "132 is not a prime number.\n",
      "133 is not a prime number.\n",
      "134 is not a prime number.\n",
      "135 is not a prime number.\n",
      "136 is not a prime number.\n",
      "137 is a prime number.\n",
      "138 is not a prime number.\n",
      "139 is a prime number.\n",
      "140 is not a prime number.\n",
      "141 is not a prime number.\n",
      "142 is not a prime number.\n",
      "143 is not a prime number.\n",
      "144 is not a prime number.\n",
      "145 is not a prime number.\n",
      "146 is not a prime number.\n",
      "147 is not a prime number.\n",
      "148 is not a prime number.\n",
      "149 is a prime number.\n",
      "150 is not a prime number.\n",
      "151 is a prime number.\n",
      "152 is not a prime number.\n",
      "153 is not a prime number.\n",
      "154 is not a prime number.\n",
      "155 is not a prime number.\n",
      "156 is not a prime number.\n",
      "157 is a prime number.\n",
      "158 is not a prime number.\n",
      "159 is not a prime number.\n",
      "160 is not a prime number.\n",
      "161 is not a prime number.\n",
      "162 is not a prime number.\n",
      "163 is a prime number.\n",
      "164 is not a prime number.\n",
      "165 is not a prime number.\n",
      "166 is not a prime number.\n",
      "167 is a prime number.\n",
      "168 is not a prime number.\n",
      "169 is not a prime number.\n",
      "170 is not a prime number.\n",
      "171 is not a prime number.\n",
      "172 is not a prime number.\n",
      "173 is a prime number.\n",
      "174 is not a prime number.\n",
      "175 is not a prime number.\n",
      "176 is not a prime number.\n",
      "177 is not a prime number.\n",
      "178 is not a prime number.\n",
      "179 is a prime number.\n",
      "180 is not a prime number.\n",
      "181 is a prime number.\n",
      "182 is not a prime number.\n",
      "183 is not a prime number.\n",
      "184 is not a prime number.\n",
      "185 is not a prime number.\n",
      "186 is not a prime number.\n",
      "187 is not a prime number.\n",
      "188 is not a prime number.\n",
      "189 is not a prime number.\n",
      "190 is not a prime number.\n",
      "191 is a prime number.\n",
      "192 is not a prime number.\n",
      "193 is a prime number.\n",
      "194 is not a prime number.\n",
      "195 is not a prime number.\n",
      "196 is not a prime number.\n",
      "197 is a prime number.\n",
      "198 is not a prime number.\n",
      "199 is a prime number.\n",
      "200 is not a prime number.\n"
     ]
    }
   ],
   "source": [
    "#4. Write a Python function that checks if a given number is prime or not from 1 to 200\n",
    "def is_prime(num):\n",
    "    \"\"\"\n",
    "    This function checks if a given number is prime or not.\n",
    "\n",
    "    :param num: Input number\n",
    "    :return: True if prime, False otherwise\n",
    "    \"\"\"\n",
    "    if num <= 1:\n",
    "        return False\n",
    "    for i in range(2, int(num ** 0.5) + 1):\n",
    "        if num % i == 0:\n",
    "            return False\n",
    "    return True\n",
    "\n",
    "# Example usage\n",
    "for i in range(1, 201):\n",
    "    if is_prime(i):\n",
    "        print(f\"{i} is a prime number.\")\n",
    "    else:\n",
    "        print(f\"{i} is not a prime number.\")"
   ]
  },
  {
   "cell_type": "code",
   "execution_count": null,
   "id": "fd10ad51",
   "metadata": {},
   "outputs": [
    {
     "name": "stdout",
     "output_type": "stream",
     "text": [
      "Fibonacci sequence up to 10 terms:\n",
      "0 1 1 2 3 5 8 13 21 34 "
     ]
    }
   ],
   "source": [
    "# 5.Create an iterator class in Python that generates the Fibonacci sequence up to a specified number of terms.\n",
    "class FibonacciIterator:\n",
    "    \"\"\"\n",
    "    This class generates the Fibonacci sequence up to a specified number of terms.\n",
    "    \"\"\"\n",
    "\n",
    "    def __init__(self, terms):\n",
    "        self.terms = terms\n",
    "        self.a, self.b = 0, 1\n",
    "        self.count = 0\n",
    "\n",
    "    def __iter__(self):\n",
    "        return self\n",
    "\n",
    "    def __next__(self):\n",
    "        if self.count < self.terms:\n",
    "            result = self.a\n",
    "            self.a, self.b = self.b, self.a + self.b\n",
    "            self.count += 1\n",
    "            return result\n",
    "        else:\n",
    "            raise StopIteration\n",
    "# Example usage\n",
    "num_terms = 10\n",
    "fibonacci_sequence = FibonacciIterator(num_terms)\n",
    "print(f\"Fibonacci sequence up to {num_terms} terms:\")\n",
    "for num in fibonacci_sequence:\n",
    "    print(num, end=\" \")\n",
    "# i have completed the code"
   ]
  },
  {
   "cell_type": "code",
   "execution_count": 20,
   "id": "10d52f66",
   "metadata": {},
   "outputs": [
    {
     "name": "stdout",
     "output_type": "stream",
     "text": [
      "Powers of 2 up to 5:\n",
      "1 2 4 8 16 32 "
     ]
    }
   ],
   "source": [
    "# 6. Write a generator function in Python that yields the powers of 2 up to a given exponent.\n",
    "def powers_of_two(exponent):\n",
    "    \"\"\"\n",
    "    This generator function yields the powers of 2 up to a given exponent.\n",
    "\n",
    "    :param exponent: Maximum exponent\n",
    "    \"\"\"\n",
    "    for i in range(exponent + 1):\n",
    "        yield 2 ** i\n",
    "# Example usage\n",
    "exponent = 5\n",
    "print(f\"Powers of 2 up to {exponent}:\")\n",
    "for power in powers_of_two(exponent):\n",
    "    print(power, end=\" \")"
   ]
  },
  {
   "cell_type": "code",
   "execution_count": null,
   "id": "9da9e480",
   "metadata": {},
   "outputs": [
    {
     "name": "stdout",
     "output_type": "stream",
     "text": [
      "Hello i am govind.I am from nohar and where are you from.It's to good to see you.\n"
     ]
    }
   ],
   "source": [
    "# 7. Implement a generator function that reads a file line by line and yields each line as a string.\n",
    "def read_file_line_by_line(file_path):\n",
    "    \"\"\"\n",
    "    This generator function reads a file line by line and yields each line as a string.\n",
    "\n",
    "    :param file_path: Path to the file\n",
    "    \"\"\"\n",
    "    with open(file_path, 'r') as file:\n",
    "        for line in file:\n",
    "            yield line.strip()\n",
    "# Example usage\n",
    "file_path = \"example.txt\"  # Replace with your actual file path\n",
    "for line in read_file_line_by_line(file_path):\n",
    "    print(line)\n",
    "\n"
   ]
  },
  {
   "cell_type": "code",
   "execution_count": null,
   "id": "3c508031",
   "metadata": {},
   "outputs": [
    {
     "name": "stdout",
     "output_type": "stream",
     "text": [
      "Sorted tuples based on the second element: [(2, 1), (3, 2), (1, 3)]\n"
     ]
    }
   ],
   "source": [
    "#8.Use a lambda function in Python to sort a list of tuples based on the second element of each tuple\n",
    "tuples_list = [(1, 3), (2, 1), (3, 2)]\n",
    "sorted_tuples = sorted(tuples_list, key=lambda x: x[1])\n",
    "print(f\"Sorted tuples based on the second element: {sorted_tuples}\")\n"
   ]
  },
  {
   "cell_type": "code",
   "execution_count": 43,
   "id": "152c0ccc",
   "metadata": {},
   "outputs": [
    {
     "name": "stdout",
     "output_type": "stream",
     "text": [
      "Temperatures in Fahrenheit: [32.0, 68.0, 98.6, 212.0]\n"
     ]
    }
   ],
   "source": [
    "#9 Write a Python program that uses `map()` to convert a list of temperatures from Celsius to Fahrenheit\n",
    "celsius_list = [0, 20, 37, 100]\n",
    "fahrenheit_list = list(map(lambda x:(x * 9/5) + 32, celsius_list))\n",
    "print(f\"Temperatures in Fahrenheit: {fahrenheit_list}\")"
   ]
  },
  {
   "cell_type": "code",
   "execution_count": 20,
   "id": "668ab069",
   "metadata": {},
   "outputs": [
    {
     "name": "stdout",
     "output_type": "stream",
     "text": [
      "String without vowels: Hll, Wrld!\n"
     ]
    }
   ],
   "source": [
    "# 10. Create a Python program that uses `filter()` to remove all the vowels from a given string\n",
    "def remove_vowels(s):\n",
    "\n",
    "    vowels = \"aeiouAEIOU\"\n",
    "    return filter(lambda x: x not in vowels, s)\n",
    "\n",
    "# Example usage\n",
    "input_string = \"Hello, World!\"\n",
    "result_string = remove_vowels(input_string)\n",
    "print(f\"String without vowels: {\"\".join(result_string)}\")"
   ]
  },
  {
   "cell_type": "code",
   "execution_count": null,
   "id": "7165271e",
   "metadata": {},
   "outputs": [
    {
     "name": "stdout",
     "output_type": "stream",
     "text": [
      "Order Summary:  [(34587, 163.8), (98762, 284.0), (77226, 108.85), (88112, 84.97)]\n"
     ]
    }
   ],
   "source": [
    "#11. Imagine an accounting routine used in a book shop. It works on a list with sublists, which look like this:\n",
    "\"\"\" \n",
    "[Order Number, Book Titel and Author, Quantity, Price per item]\n",
    "[34587, \"Learning Python, Mark Lutz\", 4, 40.95],\n",
    "[98762, \"Programming Python, Mark Lutz\", 5, 56.80],\n",
    "[77226, \"Head First Python, Paul Barry\", 3, 32.95],\n",
    "[88112, \"Einführung in Python3, Bernd Klein\", 3, 24.99]\n",
    "\n",
    "Write a Python program, which returns a list with 2-tuples. Each tuple consists of the order number and the \n",
    "product of the price per item and the quantity. The product should be increased by 10,- € if the value of the \n",
    "order is smaller than 100,00 €.\n",
    "Write a Python program using lambda and map.\n",
    "\n",
    "\"\"\"\n",
    "orders = [\n",
    "    [34587, \"Learning Python, Mark Lutz\", 4, 40.95],\n",
    "    [98762, \"Programming Python, Mark Lutz\", 5, 56.80],\n",
    "    [77226, \"Head First Python, Paul Barry\", 3, 32.95],\n",
    "    [88112, \"Einführung in Python3, Bernd Klein\", 3, 24.99]]\n",
    "result = list(map(lambda order: (\n",
    "    order[0],\n",
    "    round(order[2] * order[3] + (10 if order[2] * order[3] < 100 else 0), 2)\n",
    "), orders))\n",
    "print(\"Order Summary: \",result)\n",
    "\n"
   ]
  },
  {
   "cell_type": "code",
   "execution_count": 27,
   "id": "52413753",
   "metadata": {},
   "outputs": [
    {
     "name": "stdout",
     "output_type": "stream",
     "text": [
      "Order Summary:  [(34587, 163.8), (98762, 284.0), (77226, 108.85), (88112, 84.97)]\n"
     ]
    }
   ],
   "source": [
    "orders = [\n",
    "    [34587, \"Learning Python, Mark Lutz\", 4, 40.95],\n",
    "    [98762, \"Programming Python, Mark Lutz\", 5, 56.80],\n",
    "    [77226, \"Head First Python, Paul Barry\", 3, 32.95],\n",
    "    [88112, \"Einführung in Python3, Bernd Klein\", 3, 24.99]]\n",
    "result = list(map(lambda order: (order[0],round( order[2] * order[3] +10 if order[2] * order[3] < 100 else order[2] * order[3],2)), orders))\n",
    "\n",
    "print(\"Order Summary: \",result)"
   ]
  }
 ],
 "metadata": {
  "kernelspec": {
   "display_name": "Python 3",
   "language": "python",
   "name": "python3"
  },
  "language_info": {
   "codemirror_mode": {
    "name": "ipython",
    "version": 3
   },
   "file_extension": ".py",
   "mimetype": "text/x-python",
   "name": "python",
   "nbconvert_exporter": "python",
   "pygments_lexer": "ipython3",
   "version": "3.12.3"
  }
 },
 "nbformat": 4,
 "nbformat_minor": 5
}
