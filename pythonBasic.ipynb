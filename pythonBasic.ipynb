{
 "cells": [
  {
   "cell_type": "markdown",
   "id": "4fe819b9",
   "metadata": {},
   "source": [
    "#Python Basics Answer"
   ]
  },
  {
   "cell_type": "code",
   "execution_count": 2,
   "id": "33c47243",
   "metadata": {},
   "outputs": [
    {
     "name": "stdout",
     "output_type": "stream",
     "text": [
      "Hello, World!\n"
     ]
    }
   ],
   "source": [
    "# 1.Write a Python program to print \"Hello, World!\n",
    "\n",
    "print(\"Hello, World!\") "
   ]
  },
  {
   "cell_type": "code",
   "execution_count": 3,
   "id": "a7ae3fb2",
   "metadata": {},
   "outputs": [
    {
     "name": "stdout",
     "output_type": "stream",
     "text": [
      "My name is Govind Doe and I am 21 years old.\n"
     ]
    }
   ],
   "source": [
    "# 2. Write a Python program that displays your name and age\n",
    "print(\"My name is Govind Doe and I am 21 years old.\")"
   ]
  },
  {
   "cell_type": "code",
   "execution_count": 4,
   "id": "cc4fca97",
   "metadata": {},
   "outputs": [
    {
     "name": "stdout",
     "output_type": "stream",
     "text": [
      "False\n",
      "None\n",
      "True\n",
      "and\n",
      "as\n",
      "assert\n",
      "async\n",
      "await\n",
      "break\n",
      "class\n",
      "continue\n",
      "def\n",
      "del\n",
      "elif\n",
      "else\n",
      "except\n",
      "finally\n",
      "for\n",
      "from\n",
      "global\n",
      "if\n",
      "import\n",
      "in\n",
      "is\n",
      "lambda\n",
      "nonlocal\n",
      "not\n",
      "or\n",
      "pass\n",
      "raise\n",
      "return\n",
      "try\n",
      "while\n",
      "with\n",
      "yield\n"
     ]
    }
   ],
   "source": [
    "# 3. Write code to print all the pre-defined keywords in Python using the keyword library\n",
    "import keyword\n",
    "\n",
    "for kw in keyword.kwlist:\n",
    "    print(kw)\n",
    "    \n",
    "# help(\"keywords\") we can use to get all the keywords in python"
   ]
  },
  {
   "cell_type": "code",
   "execution_count": 5,
   "id": "98e1d8f2",
   "metadata": {},
   "outputs": [
    {
     "name": "stdout",
     "output_type": "stream",
     "text": [
      "if is a Python keyword.\n"
     ]
    }
   ],
   "source": [
    "# 4.Write a program that checks if a given word is a Python keyword.\n",
    "import keyword\n",
    "word = input(\"Enter a word: \")\n",
    "if keyword.iskeyword(word):\n",
    "    print(f\"{word} is a Python keyword.\")\n",
    "else:\n",
    "    print(f\"{word} is not a Python keyword.\")\n",
    "\n",
    "\n"
   ]
  },
  {
   "cell_type": "code",
   "execution_count": 6,
   "id": "89c714fe",
   "metadata": {},
   "outputs": [
    {
     "name": "stdout",
     "output_type": "stream",
     "text": [
      "Modified list: [1, 42, 3]\n"
     ]
    },
    {
     "ename": "TypeError",
     "evalue": "'tuple' object does not support item assignment",
     "output_type": "error",
     "traceback": [
      "\u001b[1;31m---------------------------------------------------------------------------\u001b[0m",
      "\u001b[1;31mTypeError\u001b[0m                                 Traceback (most recent call last)",
      "Cell \u001b[1;32mIn[6], line 16\u001b[0m\n\u001b[0;32m     11\u001b[0m \u001b[38;5;28mprint\u001b[39m(\u001b[38;5;124m\"\u001b[39m\u001b[38;5;124mModified list:\u001b[39m\u001b[38;5;124m\"\u001b[39m, my_list)\n\u001b[0;32m     13\u001b[0m \u001b[38;5;66;03m# Attempting to modify an element in the tuple (this will raise an error)\u001b[39;00m\n\u001b[0;32m     14\u001b[0m \u001b[38;5;66;03m# Tuples (my_tuple) are immutable, meaning once defined, their elements cannot be changed.\u001b[39;00m\n\u001b[1;32m---> 16\u001b[0m \u001b[43mmy_tuple\u001b[49m\u001b[43m[\u001b[49m\u001b[38;5;241;43m1\u001b[39;49m\u001b[43m]\u001b[49m \u001b[38;5;241m=\u001b[39m \u001b[38;5;241m42\u001b[39m  \u001b[38;5;66;03m# This line will cause an error\u001b[39;00m\n\u001b[0;32m     18\u001b[0m \u001b[38;5;28mprint\u001b[39m(\u001b[38;5;124m\"\u001b[39m\u001b[38;5;124mModified tuple:\u001b[39m\u001b[38;5;124m\"\u001b[39m, my_tuple)  \u001b[38;5;66;03m# This line will not be executed due to the error\u001b[39;00m\n",
      "\u001b[1;31mTypeError\u001b[0m: 'tuple' object does not support item assignment"
     ]
    }
   ],
   "source": [
    "# 5.Create a list and tuple in Python, and demonstrate how attempting to change an element works differently for each.\n",
    "\n",
    "# Creating a list and a tuple\n",
    "my_list = [1, 2, 3] #list is mutable\n",
    "my_tuple = (1, 2, 3) #tuple is immutable\n",
    "\n",
    "# Modifying an element in the list (this works)\n",
    "# Lists (my_list) are mutable, meaning you can change, add, or remove elements.\n",
    "\n",
    "my_list[1] = 42\n",
    "print(\"Modified list:\", my_list)\n",
    "\n",
    "# Attempting to modify an element in the tuple (this will raise an error)\n",
    "# Tuples (my_tuple) are immutable, meaning once defined, their elements cannot be changed.\n",
    "\n",
    "my_tuple[1] = 42  # This line will cause an error\n",
    "\n",
    "print(\"Modified tuple:\", my_tuple)  # This line will not be executed due to the error\n"
   ]
  },
  {
   "cell_type": "code",
   "execution_count": 7,
   "id": "f0de9339",
   "metadata": {},
   "outputs": [
    {
     "name": "stdout",
     "output_type": "stream",
     "text": [
      "Immutable Example:\n",
      "Name: Govind\n",
      "Full Name: Govind Kumar\n",
      "\n",
      "Mutable Example:\n",
      "my_list: [42, 2, 3]\n",
      "your_list: [42, 2, 3]\n"
     ]
    }
   ],
   "source": [
    "# 6.Write a function to demonstrate the behavior of mutable and immutable arguments.\n",
    "\n",
    "name=\"Govind\"# immutable string\n",
    "full_name=name # full_name is a new reference to the same string object as name\n",
    "\n",
    "# Strings are immutable, meaning you cannot change them in place.\n",
    "full_name+=\" Kumar\" # This creates a new string object and assigns it to full_name\n",
    "\n",
    "# The original string object referenced by name remains unchanged.\n",
    "# The name variable still points to the original string object.\n",
    "# The full_name variable now points to a new string object.\n",
    "print(\"Immutable Example:\")\n",
    "print(\"Name:\", name)  # Output: Govind\n",
    "print(\"Full Name:\", full_name)  # Output: Govind Kumar\n",
    "\n",
    "my_list = [1, 2, 3] #list is mutable\n",
    "your_list = my_list# your_list is a reference to the same list object as my_list\n",
    "\n",
    "# Lists are mutable, meaning you can change them in place.\n",
    "your_list[0] = 42  # This will change the first element of my_list as well\n",
    "# The original list object referenced by my_list is modified.\n",
    "# The your_list variable still points to the same list object.\n",
    "\n",
    "print(\"\\nMutable Example:\")\n",
    "print(\"my_list:\", my_list)  # Output: [42, 2, 3]\n",
    "print(\"your_list:\", your_list)  # Output: [42, 2, 3]\n",
    "\n"
   ]
  },
  {
   "cell_type": "code",
   "execution_count": 8,
   "id": "dd5afc78",
   "metadata": {},
   "outputs": [
    {
     "name": "stdout",
     "output_type": "stream",
     "text": [
      "Addition: 35.0\n",
      "Subtraction: -5.0\n",
      "Multiplication: 300.0\n",
      "Division: 0.75\n"
     ]
    }
   ],
   "source": [
    "# 7.Write a program that performs basic arithmetic operations on two user-input numbers\n",
    "num1 = float(input(\"Enter the first number: \"))\n",
    "num2 = float(input(\"Enter the second number: \"))\n",
    "\n",
    "print(\"Addition:\", num1 + num2) # Addition of two numbers\n",
    "print(\"Subtraction:\", num1 - num2) # Subtraction of two numbers\n",
    "print(\"Multiplication:\", num1 * num2) # Performing multiplication of two numbers\n",
    "if num2 != 0:\n",
    "    print(\"Division:\", num1 / num2)# Division of two numbers\n",
    "else:\n",
    "    print(\"Division: Cannot divide by zero\") # Cannot divide by zero throw error!!"
   ]
  },
  {
   "cell_type": "code",
   "execution_count": 9,
   "id": "c90f5d8b",
   "metadata": {},
   "outputs": [
    {
     "name": "stdout",
     "output_type": "stream",
     "text": [
      "You are an adult.\n",
      "You are eligible to vote.\n",
      "You are eligible to Marry\n"
     ]
    }
   ],
   "source": [
    "# 8.Write a program to demonstrate the use of logical operators.\n",
    "\n",
    "age = int(input(\"Enter your age: \"))\n",
    "Gender = input(\"Enter your Gender Male/Female: \").capitalize()\n",
    "couuntry = input(\"Enter your country: \").capitalize()\n",
    "\n",
    "# Checking if the user is not from India\n",
    "#useing logical operator not to check if the user is not from India\n",
    "if not(couuntry == \"India\"):\n",
    "    print(\"You are not from India\")\n",
    "else:\n",
    "    # Checking if the user is an adult (age 18 or above) and determining eligibility for voting and marriage\n",
    "    # Using logical operators (AND, OR) to check conditions\n",
    "    if (age >= 18 and Gender==\"Female\")or(age >= 18 and Gender==\"Male\"):\n",
    "        print(\"You are an adult.\")\n",
    "        print(\"You are eligible to vote.\")\n",
    "        print(\"You are eligible to Marry\")\n",
    "    # Checking if the user is an adult but missing gender-specific marriage eligibility    \n",
    "    elif (age >= 18 ):\n",
    "        print(\"You are an adult.\")\n",
    "        print(\"You are eligible to vote.\")\n",
    "    # Case where the user is not an adult (under 18)\n",
    "    else:\n",
    "        print(\"You are not adult.\")"
   ]
  },
  {
   "cell_type": "code",
   "execution_count": 10,
   "id": "77f3d86a",
   "metadata": {},
   "outputs": [
    {
     "name": "stdout",
     "output_type": "stream",
     "text": [
      "String: 22\n",
      "Integer: 22\n",
      "Float: 22.0\n",
      "Boolean: True\n"
     ]
    }
   ],
   "source": [
    "# 9. Write a Python program to convert user input from string to integer, float, and boolean types\n",
    "\n",
    "age = input(\"Enter your age: \")\n",
    "age_int = int(age)  # Convert to integer\n",
    "age_float = float(age)  # Convert to float\n",
    "age_bool = bool(age)  # Convert to boolean\n",
    "\n",
    "print(\"String:\", age)\n",
    "print(\"Integer:\", age_int)\n",
    "print(\"Float:\", age_float)\n",
    "print(\"Boolean:\", age_bool) # Any non-empty string evaluates to True"
   ]
  },
  {
   "cell_type": "code",
   "execution_count": 11,
   "id": "e594e858",
   "metadata": {},
   "outputs": [
    {
     "name": "stdout",
     "output_type": "stream",
     "text": [
      "Original list: ['11', -5, 42.5, 0, 22, True, 0.0]\n",
      "List of integers: [11, -5, 42, 0, 22, 1, 0]\n",
      "List of strings: ['11', '-5', '42.5', '0', '22', 'True', '0.0']\n",
      "List of floats: [11.0, -5.0, 42.5, 0.0, 22.0, 1.0, 0.0]\n",
      "List of booleans: [True, True, True, False, True, True, False]\n"
     ]
    }
   ],
   "source": [
    "#10. Write code to demonstrate type casting with list elements\n",
    "\n",
    "my_list = [\"11\", -5, 42.50, 0, 22,True,0.0] # List with different data types\n",
    "\n",
    "# The list contains strings, integers, floats, booleans, and None values\n",
    "int_list=[]\n",
    "str_list=[]\n",
    "float_list=[]\n",
    "bool_list=[]\n",
    "\n",
    "for i in my_list:\n",
    "    int_list.append(int(i)) # Convert each element to an integer\n",
    "\n",
    "for i in my_list:\n",
    "    str_list.append(str(i)) # Convert each element to a string  \n",
    "\n",
    "for i in my_list:   \n",
    "    float_list.append(float(i)) # Convert each element to a float\n",
    "\n",
    "for i in my_list:\n",
    "    bool_list.append(bool(i)) # Convert each element to a boolean\n",
    "\n",
    "print(\"Original list:\", my_list)\n",
    "print(\"List of integers:\", int_list)\n",
    "print(\"List of strings:\", str_list)\n",
    "print(\"List of floats:\", float_list)\n",
    "print(\"List of booleans:\", bool_list)\n"
   ]
  },
  {
   "cell_type": "code",
   "execution_count": 12,
   "id": "5bf65326",
   "metadata": {},
   "outputs": [
    {
     "name": "stdout",
     "output_type": "stream",
     "text": [
      "The number is positive.\n"
     ]
    }
   ],
   "source": [
    " #11.Write a program that checks if a number is positive, negative, or zero\n",
    "num = int(input(\"Enter a number: \"))\n",
    "if num > 0:\n",
    "    print(\"The number is positive.\")\n",
    "elif num < 0:  \n",
    "    print(\"The number is negative.\")\n",
    "else:  \n",
    "    print(\"The number is zero.\")"
   ]
  },
  {
   "cell_type": "code",
   "execution_count": 25,
   "id": "b63ff099",
   "metadata": {},
   "outputs": [
    {
     "name": "stdout",
     "output_type": "stream",
     "text": [
      "1\n",
      "2\n",
      "3\n",
      "4\n",
      "5\n",
      "6\n",
      "7\n",
      "8\n",
      "9\n",
      "10\n"
     ]
    }
   ],
   "source": [
    "#12. Write a for loop to print numbers from 1 to 10.\n",
    "\n",
    "for i in range(1, 11):\n",
    "    print(i)  # Print numbers from 1 to 10"
   ]
  },
  {
   "cell_type": "code",
   "execution_count": 13,
   "id": "839b06fa",
   "metadata": {},
   "outputs": [
    {
     "name": "stdout",
     "output_type": "stream",
     "text": [
      "Sum of even numbers between 1 and 50: 650\n"
     ]
    }
   ],
   "source": [
    "# 13. Write a Python program to find the sum of all even numbers between 1 and 50\n",
    "sum_even = 0\n",
    "for i in range(1, 51):\n",
    "    if i % 2 == 0:\n",
    "        sum_even += i  # Add even numbers to the sum\n",
    "print(\"Sum of even numbers between 1 and 50:\", sum_even)     "
   ]
  },
  {
   "cell_type": "code",
   "execution_count": 15,
   "id": "29c4ecdf",
   "metadata": {},
   "outputs": [
    {
     "name": "stdout",
     "output_type": "stream",
     "text": [
      "Reversed string: a\n"
     ]
    }
   ],
   "source": [
    "# 14. Write a program to reverse a string using a while loop.\n",
    "string = input(\"Enter a string: \")\n",
    "reversed_string = \"\"\n",
    "index = len(string) - 1\n",
    "while index >= 0:\n",
    "    reversed_string += string[index]  # Append characters in reverse order\n",
    "    index -= 1\n",
    "print(\"Reversed string:\", reversed_string)  # Print the reversed string    "
   ]
  },
  {
   "cell_type": "code",
   "execution_count": 19,
   "id": "e647fc6d",
   "metadata": {},
   "outputs": [
    {
     "name": "stdout",
     "output_type": "stream",
     "text": [
      "Factorial is not defined for negative numbers.\n"
     ]
    }
   ],
   "source": [
    "# 15. Write a Python program to calculate the factorial of a number provided by the user using a while loop.\n",
    "\n",
    "num = int(input(\"Enter a number to calculate its factorial: \"))\n",
    "factorial = 1 \n",
    "i = 1\n",
    "if num < 0:\n",
    "    print(\"Factorial is not defined for negative numbers.\")\n",
    "else:\n",
    "    # Calculate factorial using a while loop\n",
    "    while i <= num:\n",
    "      factorial *= i  # Multiply the current number with the factorial\n",
    "      i += 1\n",
    "    print(\"Factorial of\", num, \"is\", factorial)  # Print the factorial"
   ]
  }
 ],
 "metadata": {
  "kernelspec": {
   "display_name": "Python 3",
   "language": "python",
   "name": "python3"
  },
  "language_info": {
   "codemirror_mode": {
    "name": "ipython",
    "version": 3
   },
   "file_extension": ".py",
   "mimetype": "text/x-python",
   "name": "python",
   "nbconvert_exporter": "python",
   "pygments_lexer": "ipython3",
   "version": "3.12.3"
  }
 },
 "nbformat": 4,
 "nbformat_minor": 5
}
