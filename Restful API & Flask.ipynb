{
 "cells": [
  {
   "cell_type": "code",
   "execution_count": 4,
   "id": "c0175f50",
   "metadata": {},
   "outputs": [
    {
     "name": "stdout",
     "output_type": "stream",
     "text": [
      " * Serving Flask app '__main__'\n",
      " * Debug mode: on\n"
     ]
    },
    {
     "name": "stderr",
     "output_type": "stream",
     "text": [
      "WARNING: This is a development server. Do not use it in a production deployment. Use a production WSGI server instead.\n",
      " * Running on http://127.0.0.1:5000\n",
      "Press CTRL+C to quit\n",
      " * Restarting with stat\n"
     ]
    },
    {
     "ename": "SystemExit",
     "evalue": "1",
     "output_type": "error",
     "traceback": [
      "An exception has occurred, use %tb to see the full traceback.\n",
      "\u001b[31mSystemExit\u001b[39m\u001b[31m:\u001b[39m 1\n"
     ]
    }
   ],
   "source": [
    "#1. How do you create a basic Flask application?\n",
    "from flask import Flask\n",
    "\n",
    "app=Flask(__name__)\n",
    "\n",
    "@app.route(\"/\")\n",
    "def home():\n",
    "    return \"Hello, Flask!\"\n",
    "\n",
    "if __name__ == \"__main__\":\n",
    "    app.run(debug=True)"
   ]
  },
  {
   "cell_type": "code",
   "execution_count": 5,
   "id": "18728fea",
   "metadata": {},
   "outputs": [
    {
     "name": "stdout",
     "output_type": "stream",
     "text": [
      " * Serving Flask app '__main__'\n",
      " * Debug mode: on\n"
     ]
    },
    {
     "name": "stderr",
     "output_type": "stream",
     "text": [
      "WARNING: This is a development server. Do not use it in a production deployment. Use a production WSGI server instead.\n",
      " * Running on http://127.0.0.1:5000\n",
      "Press CTRL+C to quit\n",
      " * Restarting with stat\n"
     ]
    },
    {
     "ename": "SystemExit",
     "evalue": "1",
     "output_type": "error",
     "traceback": [
      "An exception has occurred, use %tb to see the full traceback.\n",
      "\u001b[31mSystemExit\u001b[39m\u001b[31m:\u001b[39m 1\n"
     ]
    },
    {
     "name": "stderr",
     "output_type": "stream",
     "text": [
      "c:\\Data Science\\myvenv\\Lib\\site-packages\\IPython\\core\\interactiveshell.py:3680: UserWarning: To exit: use 'exit', 'quit', or Ctrl-D.\n",
      "  warn(\"To exit: use 'exit', 'quit', or Ctrl-D.\", stacklevel=1)\n"
     ]
    }
   ],
   "source": [
    "#2.How do you serve static files like images or CSS in Flask?\n",
    "from flask import Flask, send_from_directory\n",
    "\n",
    "app = Flask(__name__)\n",
    "#In Flask, static files are typically served from a folder named 'static' in the root directory of your application.\n",
    "@app.route('/static/<path:filename>')\n",
    "# This route will serve files from the 'static' directory.\n",
    "def serve_static(filename):\n",
    "    return send_from_directory('static', filename)\n",
    "\n",
    "if __name__ == \"__main__\":\n",
    "    app.run(debug=True)"
   ]
  },
  {
   "cell_type": "code",
   "execution_count": 1,
   "id": "f24faa01",
   "metadata": {},
   "outputs": [
    {
     "name": "stdout",
     "output_type": "stream",
     "text": [
      " * Serving Flask app '__main__'\n",
      " * Debug mode: on\n"
     ]
    },
    {
     "name": "stderr",
     "output_type": "stream",
     "text": [
      "WARNING: This is a development server. Do not use it in a production deployment. Use a production WSGI server instead.\n",
      " * Running on http://127.0.0.1:5000\n",
      "Press CTRL+C to quit\n",
      " * Restarting with stat\n"
     ]
    },
    {
     "ename": "SystemExit",
     "evalue": "1",
     "output_type": "error",
     "traceback": [
      "An exception has occurred, use %tb to see the full traceback.\n",
      "\u001b[31mSystemExit\u001b[39m\u001b[31m:\u001b[39m 1\n"
     ]
    },
    {
     "name": "stderr",
     "output_type": "stream",
     "text": [
      "c:\\Data Science\\myvenv\\Lib\\site-packages\\IPython\\core\\interactiveshell.py:3680: UserWarning: To exit: use 'exit', 'quit', or Ctrl-D.\n",
      "  warn(\"To exit: use 'exit', 'quit', or Ctrl-D.\", stacklevel=1)\n"
     ]
    }
   ],
   "source": [
    "#3. How do you define different routes with different HTTP methods in Flask?\n",
    "from flask import Flask, request\n",
    "\n",
    "app = Flask(__name__)\n",
    "@app.route('/get', methods=['GET'])\n",
    "def get_route():\n",
    "    return \"This is a GET request\"\n",
    "\n",
    "@app.route('/post', methods=['POST'])\n",
    "def post_route():\n",
    "    data = request.json  # Assuming JSON data is sent in the request body\n",
    "    return f\"This is a POST request with data: {data}\"\n",
    "\n",
    "@app.route('/put', methods=['PUT'])\n",
    "def put_route():\n",
    "    data = request.json  # Assuming JSON data is sent in the request body\n",
    "    return f\"This is a PUT request with data: {data}\"\n",
    "\n",
    "@app.route('/delete', methods=['DELETE'])\n",
    "def delete_route():\n",
    "    return \"This is a DELETE request\"\n",
    "\n",
    "if __name__ == \"__main__\":\n",
    "    app.run(debug=True)\n",
    "    "
   ]
  },
  {
   "cell_type": "code",
   "execution_count": null,
   "id": "602b5532",
   "metadata": {},
   "outputs": [],
   "source": [
    "#4. How do you render HTML templates in Flask?\n",
    "from flask import Flask, render_template\n",
    "\n",
    "app = Flask(__name__)\n",
    "\n",
    "@app.route('/')\n",
    "def home():\n",
    "    return render_template('index.html')\n",
    "\n",
    "if __name__ == \"__main__\":\n",
    "    app.run(debug=True)\n",
    "    "
   ]
  },
  {
   "cell_type": "code",
   "execution_count": null,
   "id": "b6b028e5",
   "metadata": {},
   "outputs": [],
   "source": [
    "#5.  How can you generate URLs for routes in Flask using url_for?\n",
    "from flask import Flask, url_for, render_template\n",
    "app = Flask(__name__)\n",
    "@app.route('/')\n",
    "def home():\n",
    "    return render_template('index.html')\n",
    "@app.route('/about')\n",
    "def about():\n",
    "    return \"This is the about page\"\n",
    "@app.route('/contact')\n",
    "def contact():\n",
    "    return \"This is the contact page\"\n",
    "\n",
    "@app.context_processor\n",
    "def utility_processor():\n",
    "    def generate_url(endpoint, **values):\n",
    "        return url_for(endpoint, **values)\n",
    "    return dict(generate_url=generate_url)\n",
    "\n",
    "if __name__ == \"__main__\":\n",
    "    app.run(debug=True)"
   ]
  },
  {
   "cell_type": "code",
   "execution_count": null,
   "id": "a66a7b3b",
   "metadata": {},
   "outputs": [],
   "source": [
    "#6. How do you handle forms in Flask?\n",
    "from flask import Flask, render_template, request, redirect, url_for\n",
    "\n",
    "app = Flask(__name__)\n",
    "@app.route('/')\n",
    "def home():\n",
    "    return render_template('form.html')\n",
    "\n",
    "@app.route('/submit', methods=['POST'])\n",
    "def submit():\n",
    "    name = request.form.get('name')\n",
    "    email = request.form.get('email')\n",
    "    # Process the form data (e.g., save to database, send email, etc.)\n",
    "    return f\"Form submitted! Name: {name}, Email: {email}\"\n",
    "\n",
    "@app.route('/redirect')\n",
    "def redirect_example():\n",
    "    return redirect(url_for('home'))\n",
    "\n",
    "if __name__ == \"__main__\":\n",
    "    app.run(debug=True)\n"
   ]
  },
  {
   "cell_type": "code",
   "execution_count": 4,
   "id": "3f94f92f",
   "metadata": {},
   "outputs": [
    {
     "name": "stdout",
     "output_type": "stream",
     "text": [
      " * Serving Flask app '__main__'\n",
      " * Debug mode: on\n"
     ]
    },
    {
     "name": "stderr",
     "output_type": "stream",
     "text": [
      "WARNING: This is a development server. Do not use it in a production deployment. Use a production WSGI server instead.\n",
      " * Running on http://127.0.0.1:5000\n",
      "Press CTRL+C to quit\n",
      " * Restarting with stat\n"
     ]
    },
    {
     "ename": "SystemExit",
     "evalue": "1",
     "output_type": "error",
     "traceback": [
      "An exception has occurred, use %tb to see the full traceback.\n",
      "\u001b[31mSystemExit\u001b[39m\u001b[31m:\u001b[39m 1\n"
     ]
    },
    {
     "name": "stderr",
     "output_type": "stream",
     "text": [
      "c:\\Data Science\\myvenv\\Lib\\site-packages\\IPython\\core\\interactiveshell.py:3680: UserWarning: To exit: use 'exit', 'quit', or Ctrl-D.\n",
      "  warn(\"To exit: use 'exit', 'quit', or Ctrl-D.\", stacklevel=1)\n"
     ]
    }
   ],
   "source": [
    "#7.How can you validate form data in Flask?\n",
    "from flask import Flask, request, render_template_string\n",
    "\n",
    "app = Flask(__name__)\n",
    "\n",
    "@app.route('/register', methods=['GET', 'POST'])\n",
    "def register():\n",
    "    if request.method == 'POST':\n",
    "        username = request.form.get('username')\n",
    "        email = request.form.get('email')\n",
    "\n",
    "        if not username or not email:\n",
    "            return 'Missing username or email', 400\n",
    "        if '@' not in email:\n",
    "            return 'Invalid email format', 400\n",
    "        \n",
    "        return f'Registered {username} successfully!'\n",
    "    \n",
    "    return '''\n",
    "        <form method=\"POST\">\n",
    "            Username: <input type=\"text\" name=\"username\"><br>\n",
    "            Email: <input type=\"text\" name=\"email\"><br>\n",
    "            <input type=\"submit\">\n",
    "        </form>\n",
    "    '''\n",
    "if __name__ == \"__main__\":\n",
    "    app.run(debug=True)\n",
    "    "
   ]
  },
  {
   "cell_type": "code",
   "execution_count": null,
   "id": "04c60670",
   "metadata": {},
   "outputs": [],
   "source": [
    "#8.How do you manage sessions in Flask?\n",
    "from flask import Flask, session, redirect, url_for, request\n",
    "\n",
    "app = Flask(__name__)\n",
    "app.secret_key = 'your-secret-key'  # Required to sign session cookies\n",
    "\n",
    "@app.route('/')\n",
    "def index():\n",
    "    if 'username' in session:\n",
    "        return f'Logged in as {session[\"username\"]}'\n",
    "    return 'You are not logged in'\n",
    "\n",
    "@app.route('/login', methods=['GET', 'POST'])\n",
    "def login():\n",
    "    if request.method == 'POST':\n",
    "        session['username'] = request.form['username']\n",
    "        return redirect(url_for('index'))\n",
    "    return '''\n",
    "        <form method=\"post\">\n",
    "            Username: <input type=\"text\" name=\"username\">\n",
    "            <input type=\"submit\">\n",
    "        </form>\n",
    "    '''\n",
    "\n",
    "@app.route('/logout')\n",
    "def logout():\n",
    "    session.pop('username', None)  # Remove 'username' from session\n",
    "    return redirect(url_for('index'))\n",
    "\n",
    "if __name__ == \"__main__\":\n",
    "    app.run(debug=True)\n",
    "    "
   ]
  },
  {
   "cell_type": "code",
   "execution_count": null,
   "id": "ca7d0208",
   "metadata": {},
   "outputs": [],
   "source": [
    "#9. How do you redirect to a different route in Flask?\n",
    "from flask import Flask, redirect, url_for\n",
    "\n",
    "app = Flask(__name__)\n",
    "\n",
    "@app.route('/')\n",
    "def home():\n",
    "    return 'Welcome to Home Page!'\n",
    "\n",
    "@app.route('/login')\n",
    "def login():\n",
    "    return 'Please log in!'\n",
    "\n",
    "@app.route('/go-to-login')\n",
    "def go_to_login():\n",
    "    return redirect(url_for('login'))\n",
    "\n",
    "@app.route('/profile/<username>')\n",
    "def profile(username):\n",
    "    return f'Welcome {username}!'\n",
    "\n",
    "@app.route('/go-to-profile')\n",
    "def go_to_profile():\n",
    "    return redirect(url_for('profile', username='Govind'))\n",
    "\n",
    "if __name__ == \"__main__\":\n",
    "    app.run(debug=True)\n",
    "    "
   ]
  },
  {
   "cell_type": "code",
   "execution_count": null,
   "id": "cef99ad3",
   "metadata": {},
   "outputs": [],
   "source": [
    "#10.How do you handle errors in Flask (e.g., 404)?\n",
    "from flask import Flask, render_template\n",
    "\n",
    "app = Flask(__name__)\n",
    "\n",
    "@app.errorhandler(404)\n",
    "def page_not_found(e):\n",
    "    return '404 Error: Page not found', 404\n",
    "\n",
    "@app.errorhandler(500)\n",
    "def internal_server_error(e):\n",
    "    return '500 Error: Internal Server Error', 500\n"
   ]
  },
  {
   "cell_type": "code",
   "execution_count": null,
   "id": "d14f20e6",
   "metadata": {},
   "outputs": [],
   "source": [
    "#11. How do you structure a Flask app using Blueprints?\n",
    "from flask import Flask, Blueprint, render_template\n",
    "\n",
    "app = Flask(__name__)\n",
    "\n",
    "# Create a Blueprint\n",
    "main = Blueprint('main', __name__)\n",
    "@main.route('/')\n",
    "def home():\n",
    "    return render_template('home.html')\n",
    "@main.route('/about')\n",
    "def about():\n",
    "    return render_template('about.html')\n",
    "# Register the Blueprint\n",
    "app.register_blueprint(main)\n",
    "@app.route('/contact')\n",
    "def contact():\n",
    "    return render_template('contact.html')\n",
    "\n",
    "if __name__ == \"__main__\":\n",
    "    app.run(debug=True)\n"
   ]
  },
  {
   "cell_type": "code",
   "execution_count": null,
   "id": "1a8996f1",
   "metadata": {},
   "outputs": [],
   "source": [
    "#12. How do you define a custom Jinja filter in Flask?\n",
    "from flask import Flask, render_template\n",
    "\n",
    "app = Flask(__name__)\n",
    "@app.template_filter('reverse')\n",
    "def reverse_filter(s):\n",
    "    \"\"\"Reverses a string.\"\"\"\n",
    "    return s[::-1]\n",
    "\n",
    "# Register the filter\n",
    "app.jinja_env.filters['reverse'] = reverse_filter\n",
    "\n",
    "@app.route('/')\n",
    "def home():\n",
    "    return render_template('index.html')\n",
    "\n",
    "if __name__ == \"__main__\":\n",
    "    app.run(debug=True)"
   ]
  },
  {
   "cell_type": "code",
   "execution_count": null,
   "id": "46932f0d",
   "metadata": {},
   "outputs": [],
   "source": [
    "#13.How can you redirect with query parameters in Flask?\n",
    "from flask import Flask, redirect, url_for, request\n",
    "\n",
    "app = Flask(__name__)\n",
    "\n",
    "@app.route('/')\n",
    "def home():\n",
    "    return 'Welcome to the Home Page!'\n",
    "@app.route('/redirect-with-query')\n",
    "def redirect_with_query():\n",
    "    # Redirect to the 'target' route with query parameters\n",
    "    return redirect(url_for('target', param1='value1', param2='value2'))\n",
    "@app.route('/target')\n",
    "def target():\n",
    "    # Access query parameters\n",
    "    param1 = request.args.get('param1')\n",
    "    param2 = request.args.get('param2')\n",
    "    return f'Target Page with param1: {param1}, param2: {param2}'   \n",
    "\n",
    "if __name__ == \"__main__\":\n",
    "    app.run(debug=True)"
   ]
  },
  {
   "cell_type": "code",
   "execution_count": null,
   "id": "040653c4",
   "metadata": {},
   "outputs": [],
   "source": [
    "#14. How do you return JSON responses in Flask?\n",
    "from flask import Flask, jsonify\n",
    "\n",
    "app = Flask(__name__)\n",
    "\n",
    "@app.route('/data')\n",
    "def data():\n",
    "    sample_data = {\n",
    "        'name': 'Govind',\n",
    "        'age': 30,\n",
    "        'city': 'New York'\n",
    "    }\n",
    "    return jsonify(sample_data)\n",
    "\n"
   ]
  },
  {
   "cell_type": "code",
   "execution_count": null,
   "id": "664a2fb8",
   "metadata": {},
   "outputs": [],
   "source": [
    "#15. How do you capture URL parameters in Flask?\n",
    "from flask import Flask\n",
    "\n",
    "app = Flask(__name__)\n",
    "\n",
    "@app.route('/user/<username>')\n",
    "def show_user(username):\n",
    "    return f'Hello, {username}!'\n",
    "\n",
    "@app.route('/post/<int:post_id>')\n",
    "def show_post(post_id):\n",
    "    return f'Post ID: {post_id}'\n",
    "\n",
    "if __name__ == \"__main__\":\n",
    "    app.run(debug=True)\n",
    "    "
   ]
  }
 ],
 "metadata": {
  "kernelspec": {
   "display_name": "myvenv",
   "language": "python",
   "name": "python3"
  },
  "language_info": {
   "codemirror_mode": {
    "name": "ipython",
    "version": 3
   },
   "file_extension": ".py",
   "mimetype": "text/x-python",
   "name": "python",
   "nbconvert_exporter": "python",
   "pygments_lexer": "ipython3",
   "version": "3.12.3"
  }
 },
 "nbformat": 4,
 "nbformat_minor": 5
}
