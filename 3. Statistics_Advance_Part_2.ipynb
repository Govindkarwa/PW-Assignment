{
 "cells": [
  {
   "cell_type": "markdown",
   "metadata": {},
   "source": [
    "### Q 1. What is hypothesis testing in statistics?"
   ]
  },
  {
   "cell_type": "markdown",
   "metadata": {
    "id": "RPv7ifsfouSk"
   },
   "source": [
    "\n",
    "\n",
    "Ans: Hypothesis testing is a statistical method used to make decisions about a population based on sample data. It involves formulating a null hypothesis (H₀) and an alternative hypothesis (H₁), then using a test statistic to determine whether to reject H₀. The decision is based on a significance level (α), often 0.05, which defines the risk of rejecting a true null hypothesis.\n"
   ]
  },
  {
   "cell_type": "markdown",
   "metadata": {},
   "source": [
    "### Q 2. What is the null hypothesis, and how does it differ from the alternative hypothesis?"
   ]
  },
  {
   "cell_type": "markdown",
   "metadata": {
    "id": "6ga3sBhrrFaY"
   },
   "source": [
    "\n",
    "\n",
    "Ans: The null hypothesis (H₀) is a default statement that there is no effect or no difference. It assumes that any observed result is due to chance. The alternative hypothesis (H₁) is the opposite, suggesting there is an effect or a difference. Hypothesis testing evaluates data to decide whether to reject H₀ in favor of H₁, based on evidence and a chosen significance level.\n"
   ]
  },
  {
   "cell_type": "markdown",
   "metadata": {},
   "source": [
    "### Q 3. What is the significance level in hypothesis testing, and why is it important?"
   ]
  },
  {
   "cell_type": "markdown",
   "metadata": {
    "id": "7oHBS6DorWVJ"
   },
   "source": [
    "\n",
    "\n",
    "Ans: The significance level, denoted by α, is the probability of rejecting the null hypothesis when it is actually true (Type I error). Commonly set at 0.05, it defines the threshold for statistical evidence. A lower α means stricter criteria for rejecting H₀. It’s important because it controls the risk of making false conclusions and helps determine whether the test results are statistically significant.\n"
   ]
  },
  {
   "cell_type": "markdown",
   "metadata": {},
   "source": [
    "### Q 4. What does a P-value represent in hypothesis testing ?"
   ]
  },
  {
   "cell_type": "markdown",
   "metadata": {
    "id": "s5xzb5aXroL7"
   },
   "source": [
    "\n",
    "\n",
    "Ans: A P-value is the probability of obtaining results as extreme as, or more extreme than, the observed results, assuming the null hypothesis is true. It helps determine the strength of evidence against H₀. A smaller P-value indicates stronger evidence to reject H₀. If the P-value is less than or equal to the significance level (α), the null hypothesis is rejected.\n"
   ]
  },
  {
   "cell_type": "markdown",
   "metadata": {},
   "source": [
    "### Q 5. How do you interpret the P-value in hypothesis testing?"
   ]
  },
  {
   "cell_type": "markdown",
   "metadata": {
    "id": "D6mLRXn3r9Oe"
   },
   "source": [
    "\n",
    "\n",
    "Ans: To interpret a P-value, compare it with the significance level (α). If the P-value ≤ α, reject the null hypothesis, suggesting strong evidence for the alternative hypothesis. If the P-value > α, fail to reject the null hypothesis, meaning there isn’t enough evidence to support a significant effect. A smaller P-value shows stronger evidence against the null hypothesis.\n"
   ]
  },
  {
   "cell_type": "markdown",
   "metadata": {},
   "source": [
    "### Q 6. What are Type 1 and Type 2 errors in hypothesis testing?"
   ]
  },
  {
   "cell_type": "markdown",
   "metadata": {
    "id": "m5QjanbcsNVl"
   },
   "source": [
    "\n",
    "\n",
    "Ans: A Type 1 error occurs when the null hypothesis (H₀) is true but is wrongly rejected. Its probability is equal to the significance level (α). A Type 2 error happens when H₀ is false but is wrongly accepted (failing to reject it). Its probability is denoted by β. In short, Type 1 is a false positive, and Type 2 is a false negative. Both errors affect the reliability of hypothesis testing results.\n"
   ]
  },
  {
   "cell_type": "markdown",
   "metadata": {},
   "source": [
    "### Q 7. What is the difference between a one-tailed and a two-tailed test in hypothesis testing?"
   ]
  },
  {
   "cell_type": "markdown",
   "metadata": {
    "id": "IrzOxI0RsdY4"
   },
   "source": [
    "\n",
    "\n",
    "Ans: In hypothesis testing, a one-tailed test checks for an effect in one specific direction—either greater than or less than a certain value. It is used when the research hypothesis predicts the direction of the effect.\n",
    "\n",
    "A two-tailed test checks for an effect in both directions—whether the value is significantly higher or lower. It is used when no specific direction is predicted.\n",
    "\n",
    "The main difference lies in the rejection region: one-tailed has it on one side, while two-tailed splits it on both sides.\n"
   ]
  },
  {
   "cell_type": "markdown",
   "metadata": {},
   "source": [
    "### Q 8. What is the Z-test, and when is it used in hypothesis testing?"
   ]
  },
  {
   "cell_type": "markdown",
   "metadata": {
    "id": "DV1g-4gss5Qt"
   },
   "source": [
    "\n",
    "\n",
    "Ans: A Z-test is a statistical test used to determine whether there is a significant difference between sample and population means, or between two sample means, when the population variance is known and the sample size is large (typically n > 30). It assumes the data follows a normal distribution. Common types include one-sample Z-test, two-sample Z-test, and Z-test for proportions. It’s useful when standard deviation is known and Central Limit Theorem conditions are met.\n"
   ]
  },
  {
   "cell_type": "markdown",
   "metadata": {},
   "source": [
    "### Q 9. How do you calculate the Z-score, and what does it represent in hypothesis testing?"
   ]
  },
  {
   "cell_type": "markdown",
   "metadata": {
    "id": "DJ3z5BMxtEFQ"
   },
   "source": [
    "\n",
    "\n",
    "Ans: The **Z-score** is calculated using the formula:\n",
    "\n",
    "\n",
    "Z = \\frac{\\bar{X} - \\mu}{\\sigma / \\sqrt{n}}\n",
    "\n",
    "Where:\n",
    "\n",
    "* \\bar{X} = sample mean\n",
    "* \\mu = population mean\n",
    "* \\sigma = population standard deviation\n",
    "* n = sample size\n",
    "\n",
    "### What it represents:\n",
    "\n",
    "The Z-score measures how many standard errors the sample mean is from the population mean. In hypothesis testing, it helps determine how extreme the sample result is under the null hypothesis. A higher absolute Z-score indicates stronger evidence against the null hypothesis.\n"
   ]
  },
  {
   "cell_type": "markdown",
   "metadata": {},
   "source": [
    "### Q 10. What is the T-distribution, and when should it be used instead of the normal distribution?"
   ]
  },
  {
   "cell_type": "markdown",
   "metadata": {
    "id": "oVfALZ78tb9D"
   },
   "source": [
    "\n",
    "\n",
    "Ans: The **T-distribution** is a probability distribution used in statistical analysis when the sample size is small (typically $n < 30$) and the population standard deviation is unknown. It is similar to the normal distribution but has heavier tails, which account for the extra uncertainty from estimating the population standard deviation using the sample.\n",
    "\n",
    "### Use T-distribution when:\n",
    "\n",
    "* The sample size is small.\n",
    "* The population standard deviation is unknown.\n",
    "* The data is approximately normally distributed.\n"
   ]
  },
  {
   "cell_type": "markdown",
   "metadata": {},
   "source": [
    "### Q 11. What is the difference between a Z-test and a T-test?"
   ]
  },
  {
   "cell_type": "markdown",
   "metadata": {
    "id": "a8AfZjHvtv0K"
   },
   "source": [
    "\n",
    "\n",
    "Ans: The main differences between a **Z-test** and a **T-test** are:\n",
    "\n",
    "1. **Population Standard Deviation**:\n",
    "\n",
    "   * Z-test: Used when the population standard deviation (σ) is known.\n",
    "   * T-test: Used when σ is unknown and estimated from the sample.\n",
    "\n",
    "2. **Sample Size**:\n",
    "\n",
    "   * Z-test: Best for large samples (usually $n > 30$).\n",
    "   * T-test: Designed for small samples (usually $n < 30$).\n",
    "\n",
    "3. **Distribution**:\n",
    "\n",
    "   * Z-test uses the normal (Z) distribution.\n",
    "   * T-test uses the T-distribution, which has heavier tails to account for extra uncertainty.\n",
    "\n",
    "In summary, use a T-test for small samples with unknown σ, and a Z-test for large samples with known σ.\n"
   ]
  },
  {
   "cell_type": "markdown",
   "metadata": {},
   "source": [
    "### Q 12. What is the T-test, and how is it used in hypothesis testing?"
   ]
  },
  {
   "cell_type": "markdown",
   "metadata": {
    "id": "04pFiNTUt9Lg"
   },
   "source": [
    "\n",
    "\n",
    "Ans: A **T-test** is a statistical test used to compare means when the population standard deviation is unknown and the sample size is small. It helps determine if there is a significant difference between the sample mean and a population mean, or between the means of two groups.\n",
    "\n",
    "In hypothesis testing, the T-test calculates a T-statistic from sample data, which is compared to a critical value from the T-distribution to decide whether to reject the null hypothesis.\n"
   ]
  },
  {
   "cell_type": "markdown",
   "metadata": {},
   "source": [
    "### Q 13. What is the relationship between Z-test and T-test in hypothesis testing?"
   ]
  },
  {
   "cell_type": "markdown",
   "metadata": {
    "id": "nNWzkXhUuJPF"
   },
   "source": [
    "\n",
    "\n",
    "Ans: The **Z-test** and **T-test** are closely related statistical tests used in hypothesis testing to compare means:\n",
    "\n",
    "* Both tests evaluate whether a sample mean significantly differs from a population mean or between two samples.\n",
    "* The key difference is whether the population standard deviation is known and the sample size:\n",
    "\n",
    "  * **Z-test** is used when the population standard deviation is known and/or the sample size is large (usually $n > 30$).\n",
    "  * **T-test** is used when the population standard deviation is unknown and the sample size is small (usually $n < 30$).\n",
    "* As the sample size grows, the T-distribution approaches the normal distribution, making the T-test results similar to the Z-test.\n"
   ]
  },
  {
   "cell_type": "markdown",
   "metadata": {},
   "source": [
    "### Q 14. What is a confidence interval, and how is it used to interpret statistical results?\n"
   ]
  },
  {
   "cell_type": "markdown",
   "metadata": {
    "id": "f7k4qktOuVLu"
   },
   "source": [
    "\n",
    "Ans: A **confidence interval (CI)** is a range of values, derived from sample data, that is likely to contain the true population parameter (e.g., mean) with a certain level of confidence (usually 95%). It gives an estimated range within which the population value lies.\n",
    "\n",
    "### How it’s used:\n",
    "\n",
    "* It shows the precision of an estimate.\n",
    "* A wider interval means more uncertainty; a narrower interval means more precision.\n",
    "* If a CI for a mean difference does not include zero, it suggests a statistically significant difference.\n"
   ]
  },
  {
   "cell_type": "markdown",
   "metadata": {},
   "source": [
    "### Q 15. What is the margin of error, and how does it affect the confidence interval?"
   ]
  },
  {
   "cell_type": "markdown",
   "metadata": {
    "id": "kIRlHJOUugwp"
   },
   "source": [
    "\n",
    "\n",
    "Ans: The **margin of error** is the maximum expected difference between the sample estimate and the true population parameter. It reflects the uncertainty in the estimate and is calculated using the critical value (from Z or T distribution) multiplied by the standard error.\n",
    "\n",
    "### How it affects the confidence interval:\n",
    "\n",
    "* The confidence interval equals the sample estimate ± margin of error.\n",
    "* A larger margin of error widens the confidence interval, indicating less precision.\n",
    "* A smaller margin of error narrows the interval, showing more precise estimates.\n"
   ]
  },
  {
   "cell_type": "markdown",
   "metadata": {},
   "source": [
    "### Q 16. How is Bayes' Theorem used in statistics, and what is its significance?"
   ]
  },
  {
   "cell_type": "markdown",
   "metadata": {
    "id": "CS2gf5asut0g"
   },
   "source": [
    "\n",
    "\n",
    "Ans: **Bayes' Theorem** is used in statistics to update the probability of a hypothesis based on new evidence. It calculates the **posterior probability** by combining the prior probability (initial belief) and the likelihood of observed data.\n",
    "\n",
    "### Formula:\n",
    "\n",
    "$$\n",
    "P(H|E) = \\frac{P(E|H) \\times P(H)}{P(E)}\n",
    "$$\n",
    "\n",
    "Where:\n",
    "\n",
    "* $P(H|E)$ = probability of hypothesis $H$ given evidence $E$ (posterior)\n",
    "* $P(E|H)$ = probability of evidence given hypothesis (likelihood)\n",
    "* $P(H)$ = prior probability of hypothesis\n",
    "* $P(E)$ = total probability of evidence\n",
    "\n",
    "### Significance:\n",
    "\n",
    "It allows incorporating new data to refine predictions and decisions, crucial in fields like medical diagnosis, machine learning, and risk assessment.\n"
   ]
  },
  {
   "cell_type": "markdown",
   "metadata": {},
   "source": [
    "### Q 17. What is the Chi-square distribution, and when is it used?"
   ]
  },
  {
   "cell_type": "markdown",
   "metadata": {
    "id": "6qDKKLkSu5_A"
   },
   "source": [
    "\n",
    "\n",
    "Ans: The **Chi-square distribution** is a probability distribution used in statistics, especially for testing relationships between categorical variables. It is skewed right and depends on degrees of freedom.\n",
    "\n",
    "### When it is used:\n",
    "\n",
    "* In **Chi-square tests of independence**, to check if two categorical variables are related.\n",
    "* In **goodness-of-fit tests**, to see if observed data fits an expected distribution.\n",
    "* To estimate variances in normally distributed populations.\n",
    "\n",
    "It helps analyze categorical data and test hypotheses about frequencies.\n"
   ]
  },
  {
   "cell_type": "markdown",
   "metadata": {},
   "source": [
    "### Q 18. What is the Chi-square goodness of fit test, and how is it applied?"
   ]
  },
  {
   "cell_type": "markdown",
   "metadata": {
    "id": "OuE7FTGOvGG8"
   },
   "source": [
    "\n",
    "\n",
    "Ans: The **Chi-square goodness of fit test** checks whether observed categorical data matches an expected distribution. It tests if the sample data fits a specified theoretical distribution.\n",
    "\n",
    "### How it’s applied:\n",
    "\n",
    "1. **State hypotheses:**\n",
    "\n",
    "   * Null (H₀): Data fits the expected distribution.\n",
    "   * Alternative (H₁): Data does not fit the distribution.\n",
    "\n",
    "2. **Calculate expected frequencies** based on the theoretical distribution.\n",
    "\n",
    "3. **Compute the Chi-square statistic:**\n",
    "\n",
    "$$\n",
    "\\chi^2 = \\sum \\frac{(O_i - E_i)^2}{E_i}\n",
    "$$\n",
    "\n",
    "Where $O_i$ = observed frequency, $E_i$ = expected frequency.\n",
    "\n",
    "4. **Compare** $\\chi^2$ value to critical value from Chi-square distribution with appropriate degrees of freedom.\n",
    "\n",
    "5. **Decide:** Reject H₀ if $\\chi^2$ is greater than the critical value; otherwise, fail to reject.\n"
   ]
  },
  {
   "cell_type": "markdown",
   "metadata": {},
   "source": [
    "### Q 19. What is the F-distribution, and when is it used in hypothesis testing?"
   ]
  },
  {
   "cell_type": "markdown",
   "metadata": {
    "id": "C-q9wux9vSBY"
   },
   "source": [
    "\n",
    "\n",
    "Ans: The **F-distribution** is a probability distribution used primarily in hypothesis testing to compare variances. It is positively skewed and depends on two sets of degrees of freedom (numerator and denominator).\n",
    "\n",
    "### When it is used:\n",
    "\n",
    "* In **ANOVA (Analysis of Variance)**, to test if means across multiple groups are equal by comparing variances.\n",
    "* In **F-tests**, to compare the variances of two populations.\n",
    "* In regression analysis, to test overall model significance.\n",
    "\n",
    "It helps determine if group differences are statistically significant based on variance ratios.\n"
   ]
  },
  {
   "cell_type": "markdown",
   "metadata": {},
   "source": [
    "### Q 20. What is an ANOVA test, and what are its assumptions?"
   ]
  },
  {
   "cell_type": "markdown",
   "metadata": {
    "id": "2D3S3OrqvcwR"
   },
   "source": [
    "\n",
    "\n",
    "Ans: **ANOVA (Analysis of Variance)** is a statistical test used to compare the means of three or more groups to see if at least one group mean differs significantly from the others.\n",
    "\n",
    "### Assumptions of ANOVA:\n",
    "\n",
    "1. **Independence:** Observations are independent of each other.\n",
    "2. **Normality:** Data in each group is approximately normally distributed.\n",
    "3. **Homogeneity of variances:** The variances across groups are equal (homoscedasticity).\n",
    "\n",
    "If these assumptions hold, ANOVA helps identify whether group differences are statistically significant.\n"
   ]
  },
  {
   "cell_type": "markdown",
   "metadata": {},
   "source": [
    "### Q 21. What are the different types of ANOVA tests?"
   ]
  },
  {
   "cell_type": "markdown",
   "metadata": {
    "id": "eriM9Ii0vqDo"
   },
   "source": [
    "\n",
    "\n",
    "Ans: The main types of ANOVA tests are:\n",
    "\n",
    "1. **One-Way ANOVA:**\n",
    "   Compares means across three or more groups based on one independent factor.\n",
    "\n",
    "2. **Two-Way ANOVA:**\n",
    "   Examines the effect of two independent factors on the dependent variable, including interaction effects.\n",
    "\n",
    "3. **Repeated Measures ANOVA:**\n",
    "   Used when the same subjects are measured multiple times under different conditions.\n",
    "\n",
    "4. **Multivariate ANOVA (MANOVA):**\n",
    "   Tests differences in multiple dependent variables simultaneously across groups.\n"
   ]
  },
  {
   "cell_type": "markdown",
   "metadata": {},
   "source": [
    "### Q 22. What is the F-test, and how does it relate to hypothesis testing?"
   ]
  },
  {
   "cell_type": "markdown",
   "metadata": {
    "id": "TmmSJOTHv156"
   },
   "source": [
    "\n",
    "\n",
    "Ans: The **F-test** is a statistical test that compares the variances of two or more groups to see if they are significantly different. It uses the **F-distribution** and calculates an F-statistic, which is the ratio of variances (e.g., between-group variance to within-group variance).\n",
    "\n",
    "### In hypothesis testing:\n",
    "\n",
    "* The **null hypothesis (H₀)** states that all group variances (or means, in ANOVA) are equal.\n",
    "* The **alternative hypothesis (H₁)** states that at least one variance (or mean) differs.\n",
    "  If the calculated F-statistic is greater than the critical value from the F-distribution, H₀ is rejected, indicating significant differences.\n"
   ]
  },
  {
   "cell_type": "markdown",
   "metadata": {
    "id": "QDjMSQXW46To"
   },
   "source": [
    "# **Practical Question**"
   ]
  },
  {
   "cell_type": "markdown",
   "metadata": {},
   "source": [
    "### Q 1. Write a Python program to perform a Z-test for comparing a sample mean to a known population mean and interpret the results."
   ]
  },
  {
   "cell_type": "code",
   "execution_count": 33,
   "metadata": {
    "colab": {
     "base_uri": "https://localhost:8080/"
    },
    "id": "dKOp9uaR5ApW",
    "outputId": "7766691b-8361-43c8-d5db-fea19306b907"
   },
   "outputs": [
    {
     "name": "stdout",
     "output_type": "stream",
     "text": [
      "Sample Mean: 55.80\n",
      "Z-Score: 3.668\n",
      "Critical Z-Value: ±1.960\n",
      "P-Value: 0.0002\n",
      "Result: Reject the null hypothesis.\n"
     ]
    }
   ],
   "source": [
    "\n",
    "\n",
    "import numpy as np\n",
    "from scipy.stats import norm\n",
    "\n",
    "# Sample data\n",
    "sample = np.array([52, 55, 53, 58, 54, 57, 56, 59, 60, 54])\n",
    "sample_mean = np.mean(sample)\n",
    "sample_size = len(sample)\n",
    "\n",
    "# Known population parameters\n",
    "population_mean = 50\n",
    "population_std = 5\n",
    "\n",
    "# Significance level\n",
    "alpha = 0.05\n",
    "\n",
    "# Z-test calculation\n",
    "z_score = (sample_mean - population_mean) / (population_std / np.sqrt(sample_size))\n",
    "p_value = 2 * (1 - norm.cdf(abs(z_score)))  # two-tailed test\n",
    "\n",
    "# Critical z-value\n",
    "z_critical = norm.ppf(1 - alpha / 2)\n",
    "\n",
    "# Output results\n",
    "print(f\"Sample Mean: {sample_mean:.2f}\")\n",
    "print(f\"Z-Score: {z_score:.3f}\")\n",
    "print(f\"Critical Z-Value: ±{z_critical:.3f}\")\n",
    "print(f\"P-Value: {p_value:.4f}\")\n",
    "\n",
    "# Interpretation\n",
    "if abs(z_score) > z_critical:\n",
    "    print(\"Result: Reject the null hypothesis.\")\n",
    "else:\n",
    "    print(\"Result: Fail to reject the null hypothesis.\")\n"
   ]
  },
  {
   "cell_type": "markdown",
   "metadata": {},
   "source": [
    "### Q 2. Simulate random data to perform hypothesis testing and calculate the corresponding P-value using Python."
   ]
  },
  {
   "cell_type": "code",
   "execution_count": 34,
   "metadata": {
    "colab": {
     "base_uri": "https://localhost:8080/"
    },
    "id": "PjdJHr5t5PWD",
    "outputId": "dfe2a941-be4a-467b-80d2-65c21be2f8c5"
   },
   "outputs": [
    {
     "name": "stdout",
     "output_type": "stream",
     "text": [
      "Sample Mean: 51.06\n",
      "T-Statistic: 1.289\n",
      "P-Value: 0.2075\n",
      "Result: Fail to reject the null hypothesis.\n"
     ]
    }
   ],
   "source": [
    "\n",
    "\n",
    "import numpy as np\n",
    "from scipy.stats import ttest_1samp\n",
    "\n",
    "# Simulate random sample data from a normal distribution\n",
    "np.random.seed(42)\n",
    "sample_data = np.random.normal(loc=52, scale=5, size=30)\n",
    "\n",
    "# Population mean to test against\n",
    "population_mean = 50\n",
    "\n",
    "# Perform one-sample t-test\n",
    "t_stat, p_value = ttest_1samp(sample_data, population_mean)\n",
    "\n",
    "# Output the results\n",
    "print(f\"Sample Mean: {np.mean(sample_data):.2f}\")\n",
    "print(f\"T-Statistic: {t_stat:.3f}\")\n",
    "print(f\"P-Value: {p_value:.4f}\")\n",
    "\n",
    "# Interpretation\n",
    "alpha = 0.05\n",
    "if p_value < alpha:\n",
    "    print(\"Result: Reject the null hypothesis.\")\n",
    "else:\n",
    "    print(\"Result: Fail to reject the null hypothesis.\")\n"
   ]
  },
  {
   "cell_type": "markdown",
   "metadata": {},
   "source": [
    "### Q 3. Implement a one-sample Z-test using Python to compare the sample mean with the population mean."
   ]
  },
  {
   "cell_type": "code",
   "execution_count": 35,
   "metadata": {
    "colab": {
     "base_uri": "https://localhost:8080/"
    },
    "id": "kvQm9FfG5do3",
    "outputId": "e57b3650-f90e-4b29-ff22-59b3aaf19176"
   },
   "outputs": [
    {
     "name": "stdout",
     "output_type": "stream",
     "text": [
      "Sample Mean: 50.76\n",
      "Z-Score: 1.041\n",
      "P-Value: 0.2979\n",
      "Result: Fail to reject the null hypothesis.\n"
     ]
    }
   ],
   "source": [
    "\n",
    "\n",
    "import numpy as np\n",
    "from scipy.stats import norm\n",
    "\n",
    "# Simulated sample data\n",
    "np.random.seed(1)\n",
    "sample = np.random.normal(loc=51, scale=4, size=30)\n",
    "\n",
    "# Known population parameters\n",
    "population_mean = 50\n",
    "population_std = 4  # known standard deviation\n",
    "sample_mean = np.mean(sample)\n",
    "sample_size = len(sample)\n",
    "\n",
    "# Calculate Z-score\n",
    "z_score = (sample_mean - population_mean) / (population_std / np.sqrt(sample_size))\n",
    "\n",
    "# Calculate p-value (two-tailed)\n",
    "p_value = 2 * (1 - norm.cdf(abs(z_score)))\n",
    "\n",
    "# Display results\n",
    "print(f\"Sample Mean: {sample_mean:.2f}\")\n",
    "print(f\"Z-Score: {z_score:.3f}\")\n",
    "print(f\"P-Value: {p_value:.4f}\")\n",
    "\n",
    "# Interpretation\n",
    "alpha = 0.05\n",
    "if p_value < alpha:\n",
    "    print(\"Result: Reject the null hypothesis.\")\n",
    "else:\n",
    "    print(\"Result: Fail to reject the null hypothesis.\")\n"
   ]
  },
  {
   "cell_type": "markdown",
   "metadata": {},
   "source": [
    "### Q 4. Perform a two-tailed Z-test using Python and visualize the decision region on a plot."
   ]
  },
  {
   "cell_type": "code",
   "execution_count": 36,
   "metadata": {
    "colab": {
     "base_uri": "https://localhost:8080/",
     "height": 541
    },
    "id": "jIFoOYQG5-Mo",
    "outputId": "457849dc-42d8-478a-b27a-81042f154627"
   },
   "outputs": [
    {
     "name": "stdout",
     "output_type": "stream",
     "text": [
      "Sample Mean: 50.96\n",
      "Z-score: 1.208\n",
      "Critical Z-values: -1.960, 1.960\n",
      "P-value: 0.2269\n"
     ]
    },
    {
     "data": {
      "image/png": "[encoded data removed]",
      "text/plain": [
       "<Figure size 640x480 with 1 Axes>"
      ]
     },
     "metadata": {},
     "output_type": "display_data"
    }
   ],
   "source": [
    "\n",
    "\n",
    "import numpy as np\n",
    "import matplotlib.pyplot as plt\n",
    "from scipy.stats import norm\n",
    "\n",
    "# Sample data\n",
    "np.random.seed(2)\n",
    "sample = np.random.normal(loc=52, scale=5, size=40)\n",
    "\n",
    "# Known population parameters\n",
    "pop_mean = 50\n",
    "pop_std = 5\n",
    "n = len(sample)\n",
    "sample_mean = np.mean(sample)\n",
    "\n",
    "# Calculate Z-score\n",
    "z_score = (sample_mean - pop_mean) / (pop_std / np.sqrt(n))\n",
    "\n",
    "# Significance level\n",
    "alpha = 0.05\n",
    "\n",
    "# Critical Z values for two-tailed test\n",
    "z_critical_low = norm.ppf(alpha / 2)\n",
    "z_critical_high = norm.ppf(1 - alpha / 2)\n",
    "\n",
    "# P-value\n",
    "p_value = 2 * (1 - norm.cdf(abs(z_score)))\n",
    "\n",
    "# Print results\n",
    "print(f\"Sample Mean: {sample_mean:.2f}\")\n",
    "print(f\"Z-score: {z_score:.3f}\")\n",
    "print(f\"Critical Z-values: {z_critical_low:.3f}, {z_critical_high:.3f}\")\n",
    "print(f\"P-value: {p_value:.4f}\")\n",
    "\n",
    "# Plotting the normal distribution and decision regions\n",
    "x = np.linspace(-4, 4, 1000)\n",
    "y = norm.pdf(x)\n",
    "\n",
    "plt.plot(x, y, label='Standard Normal Distribution')\n",
    "plt.fill_between(x, 0, y, where=(x < z_critical_low), color='red', alpha=0.3, label='Rejection Region (Left)')\n",
    "plt.fill_between(x, 0, y, where=(x > z_critical_high), color='red', alpha=0.3, label='Rejection Region (Right)')\n",
    "plt.axvline(z_score, color='blue', linestyle='--', label=f'Z-score = {z_score:.2f}')\n",
    "plt.axvline(z_critical_low, color='black', linestyle='--', label=f'Critical Z = {z_critical_low:.2f}')\n",
    "plt.axvline(z_critical_high, color='black', linestyle='--', label=f'Critical Z = {z_critical_high:.2f}')\n",
    "\n",
    "plt.title('Two-Tailed Z-Test Decision Regions')\n",
    "plt.xlabel('Z-score')\n",
    "plt.ylabel('Probability Density')\n",
    "plt.legend()\n",
    "plt.grid(True)\n",
    "plt.show()\n"
   ]
  },
  {
   "cell_type": "markdown",
   "metadata": {},
   "source": [
    "### Q 5. Create a Python function that calculates and visualizes Type 1 and Type 2 errors during hypothesis testing."
   ]
  },
  {
   "cell_type": "code",
   "execution_count": 37,
   "metadata": {
    "colab": {
     "base_uri": "https://localhost:8080/",
     "height": 564
    },
    "id": "mVGAKcRK6cWV",
    "outputId": "def39eb3-01b1-43a0-b73f-1ba81c7cb4b4"
   },
   "outputs": [
    {
     "data": {
      "image/png": "[encoded data removed]",
      "text/plain": [
       "<Figure size 1000x600 with 1 Axes>"
      ]
     },
     "metadata": {},
     "output_type": "display_data"
    }
   ],
   "source": [
    "\n",
    "\n",
    "import numpy as np\n",
    "import matplotlib.pyplot as plt\n",
    "from scipy.stats import norm\n",
    "\n",
    "def plot_type_errors(mu0=0, mu1=1, sigma=1, alpha=0.05):\n",
    "    \"\"\"\n",
    "    Plot Type 1 and Type 2 errors for hypothesis testing.\n",
    "\n",
    "    Parameters:\n",
    "    - mu0: Mean under null hypothesis H0\n",
    "    - mu1: Mean under alternative hypothesis H1\n",
    "    - sigma: Standard deviation (assumed equal for both)\n",
    "    - alpha: Significance level (Type 1 error rate)\n",
    "    \"\"\"\n",
    "    # Critical value for one-tailed test (right tail)\n",
    "    z_crit = norm.ppf(1 - alpha)\n",
    "\n",
    "    # Define x range for plotting\n",
    "    x = np.linspace(mu0 - 4*sigma, mu1 + 4*sigma, 1000)\n",
    "\n",
    "    # PDFs under H0 and H1\n",
    "    pdf_H0 = norm.pdf(x, loc=mu0, scale=sigma)\n",
    "    pdf_H1 = norm.pdf(x, loc=mu1, scale=sigma)\n",
    "\n",
    "    # Type 1 error: area in H0 distribution beyond critical value\n",
    "    type1_x = np.linspace(mu0 + z_crit*sigma, mu0 + 4*sigma, 100)\n",
    "    type1_y = norm.pdf(type1_x, mu0, sigma)\n",
    "\n",
    "    # Type 2 error: area in H1 distribution left of critical value threshold\n",
    "    threshold = mu0 + z_crit*sigma\n",
    "    type2_x = np.linspace(mu1 - 4*sigma, threshold, 100)\n",
    "    type2_y = norm.pdf(type2_x, mu1, sigma)\n",
    "\n",
    "    plt.figure(figsize=(10,6))\n",
    "    plt.plot(x, pdf_H0, label='Null Hypothesis (H0)', color='blue')\n",
    "    plt.plot(x, pdf_H1, label='Alternative Hypothesis (H1)', color='green')\n",
    "\n",
    "    # Shade Type 1 error region (false positive)\n",
    "    plt.fill_between(type1_x, 0, type1_y, color='red', alpha=0.5, label='Type 1 Error (α)')\n",
    "\n",
    "    # Shade Type 2 error region (false negative)\n",
    "    plt.fill_between(type2_x, 0, type2_y, color='orange', alpha=0.5, label='Type 2 Error (β)')\n",
    "\n",
    "    # Draw critical value line\n",
    "    plt.axvline(threshold, color='black', linestyle='--', label=f'Critical Value = {threshold:.2f}')\n",
    "\n",
    "    plt.title('Type 1 and Type 2 Errors in Hypothesis Testing')\n",
    "    plt.xlabel('Test Statistic')\n",
    "    plt.ylabel('Probability Density')\n",
    "    plt.legend()\n",
    "    plt.grid(True)\n",
    "    plt.show()\n",
    "\n",
    "# Example usage\n",
    "plot_type_errors(mu0=0, mu1=1, sigma=1, alpha=0.05)\n"
   ]
  },
  {
   "cell_type": "markdown",
   "metadata": {},
   "source": [
    "### Q 6. Write a Python program to perform an independent T-test and interpret the results."
   ]
  },
  {
   "cell_type": "code",
   "execution_count": 38,
   "metadata": {
    "colab": {
     "base_uri": "https://localhost:8080/"
    },
    "id": "mv3UERy162Kv",
    "outputId": "644a696b-d143-4043-c24f-6c0592fddcfe"
   },
   "outputs": [
    {
     "name": "stdout",
     "output_type": "stream",
     "text": [
      "T-Statistic: 0.507\n",
      "P-Value: 0.6142\n",
      "Result: Fail to reject the null hypothesis (no significant difference).\n"
     ]
    }
   ],
   "source": [
    "\n",
    "\n",
    "import numpy as np\n",
    "from scipy.stats import ttest_ind\n",
    "\n",
    "# Generate two independent samples\n",
    "np.random.seed(0)\n",
    "group1 = np.random.normal(loc=50, scale=5, size=30)\n",
    "group2 = np.random.normal(loc=53, scale=5, size=30)\n",
    "\n",
    "# Perform independent two-sample t-test\n",
    "t_stat, p_value = ttest_ind(group1, group2)\n",
    "\n",
    "# Print results\n",
    "print(f\"T-Statistic: {t_stat:.3f}\")\n",
    "print(f\"P-Value: {p_value:.4f}\")\n",
    "\n",
    "# Interpretation\n",
    "alpha = 0.05\n",
    "if p_value < alpha:\n",
    "    print(\"Result: Reject the null hypothesis (means are significantly different).\")\n",
    "else:\n",
    "    print(\"Result: Fail to reject the null hypothesis (no significant difference).\")\n"
   ]
  },
  {
   "cell_type": "markdown",
   "metadata": {},
   "source": [
    "### Q 7. Perform a paired sample T-test using Python and visualize the comparison results."
   ]
  },
  {
   "cell_type": "code",
   "execution_count": 39,
   "metadata": {
    "colab": {
     "base_uri": "https://localhost:8080/",
     "height": 522
    },
    "id": "jszcTQNy7Iob",
    "outputId": "f0ffc91c-990e-4265-9ea0-fadf6250b70b"
   },
   "outputs": [
    {
     "name": "stdout",
     "output_type": "stream",
     "text": [
      "T-Statistic: -2.545\n",
      "P-Value: 0.0165\n"
     ]
    },
    {
     "data": {
      "image/png": "[encoded data removed]",
      "text/plain": [
       "<Figure size 800x500 with 1 Axes>"
      ]
     },
     "metadata": {},
     "output_type": "display_data"
    }
   ],
   "source": [
    "\n",
    "\n",
    "import numpy as np\n",
    "from scipy.stats import ttest_rel\n",
    "import matplotlib.pyplot as plt\n",
    "\n",
    "# Simulate paired data (e.g., before and after treatment)\n",
    "np.random.seed(0)\n",
    "before = np.random.normal(loc=70, scale=10, size=30)\n",
    "after = before + np.random.normal(loc=5, scale=7, size=30)  # mean increase of 5\n",
    "\n",
    "# Perform paired t-test\n",
    "t_stat, p_value = ttest_rel(before, after)\n",
    "\n",
    "# Print results\n",
    "print(f\"T-Statistic: {t_stat:.3f}\")\n",
    "print(f\"P-Value: {p_value:.4f}\")\n",
    "\n",
    "# Visualization\n",
    "plt.figure(figsize=(8,5))\n",
    "plt.plot(range(len(before)), before, marker='o', linestyle='-', label='Before')\n",
    "plt.plot(range(len(after)), after, marker='o', linestyle='-', label='After')\n",
    "plt.title('Paired Sample Data Comparison')\n",
    "plt.xlabel('Sample Index')\n",
    "plt.ylabel('Value')\n",
    "plt.legend()\n",
    "plt.grid(True)\n",
    "plt.show()\n"
   ]
  },
  {
   "cell_type": "markdown",
   "metadata": {},
   "source": [
    "### Q 8. Simulate data and perform both Z-test and T-test, then compare the results using Python."
   ]
  },
  {
   "cell_type": "code",
   "execution_count": 40,
   "metadata": {
    "colab": {
     "base_uri": "https://localhost:8080/"
    },
    "id": "zbvQVmRv7aGl",
    "outputId": "93750a65-9c07-46a5-d819-2ee1f3c0558d"
   },
   "outputs": [
    {
     "name": "stdout",
     "output_type": "stream",
     "text": [
      "Z-Test Results:\n",
      " Z-Score: 1.160\n",
      " P-Value: 0.2459\n",
      "\n",
      "T-Test Results:\n",
      " T-Statistic: 1.289\n",
      " P-Value: 0.2075\n",
      "\n",
      "Interpretation:\n",
      " - Z-Test: Fail to reject the null hypothesis.\n",
      " - T-Test: Fail to reject the null hypothesis.\n"
     ]
    }
   ],
   "source": [
    "\n",
    "\n",
    "import numpy as np\n",
    "from scipy.stats import norm, ttest_1samp\n",
    "\n",
    "# Simulate sample data\n",
    "np.random.seed(42)\n",
    "sample = np.random.normal(loc=52, scale=5, size=30)\n",
    "\n",
    "# Known population parameters\n",
    "pop_mean = 50\n",
    "pop_std = 5  # known for Z-test\n",
    "n = len(sample)\n",
    "sample_mean = np.mean(sample)\n",
    "\n",
    "# --- Z-test ---\n",
    "z_score = (sample_mean - pop_mean) / (pop_std / np.sqrt(n))\n",
    "p_value_z = 2 * (1 - norm.cdf(abs(z_score)))  # two-tailed\n",
    "\n",
    "# --- T-test ---\n",
    "t_stat, p_value_t = ttest_1samp(sample, pop_mean)\n",
    "\n",
    "# Print results\n",
    "print(\"Z-Test Results:\")\n",
    "print(f\" Z-Score: {z_score:.3f}\")\n",
    "print(f\" P-Value: {p_value_z:.4f}\\n\")\n",
    "\n",
    "print(\"T-Test Results:\")\n",
    "print(f\" T-Statistic: {t_stat:.3f}\")\n",
    "print(f\" P-Value: {p_value_t:.4f}\\n\")\n",
    "\n",
    "# Interpretation\n",
    "alpha = 0.05\n",
    "print(\"Interpretation:\")\n",
    "print(f\" - Z-Test: {'Reject' if p_value_z < alpha else 'Fail to reject'} the null hypothesis.\")\n",
    "print(f\" - T-Test: {'Reject' if p_value_t < alpha else 'Fail to reject'} the null hypothesis.\")\n"
   ]
  },
  {
   "cell_type": "markdown",
   "metadata": {},
   "source": [
    "### Q 9. Write a Python function to calculate the confidence interval for a sample mean and explain its significance."
   ]
  },
  {
   "cell_type": "code",
   "execution_count": 41,
   "metadata": {
    "colab": {
     "base_uri": "https://localhost:8080/"
    },
    "id": "n_y1mPLP7pPB",
    "outputId": "3f0e08a3-f44a-42fb-c97e-fbd8ab53dc8e"
   },
   "outputs": [
    {
     "name": "stdout",
     "output_type": "stream",
     "text": [
      "Sample Mean: 52.21\n",
      "95% Confidence Interval: (50.16, 54.27)\n"
     ]
    }
   ],
   "source": [
    "\n",
    "\n",
    "import numpy as np\n",
    "from scipy.stats import t\n",
    "\n",
    "def confidence_interval(data, confidence=0.95):\n",
    "    \"\"\"\n",
    "    Calculate the confidence interval for the sample mean.\n",
    "\n",
    "    Parameters:\n",
    "    - data: array-like, sample data\n",
    "    - confidence: float, confidence level (default 0.95)\n",
    "\n",
    "    Returns:\n",
    "    - (lower_bound, upper_bound): tuple with confidence interval limits\n",
    "    \"\"\"\n",
    "    n = len(data)\n",
    "    mean = np.mean(data)\n",
    "    std_err = np.std(data, ddof=1) / np.sqrt(n)  # sample standard error\n",
    "    t_crit = t.ppf((1 + confidence) / 2, df=n-1)  # two-tailed t critical value\n",
    "\n",
    "    margin_of_error = t_crit * std_err\n",
    "    lower_bound = mean - margin_of_error\n",
    "    upper_bound = mean + margin_of_error\n",
    "\n",
    "    return lower_bound, upper_bound\n",
    "\n",
    "# Example usage\n",
    "np.random.seed(0)\n",
    "sample_data = np.random.normal(loc=50, scale=5, size=30)\n",
    "ci_lower, ci_upper = confidence_interval(sample_data)\n",
    "\n",
    "print(f\"Sample Mean: {np.mean(sample_data):.2f}\")\n",
    "print(f\"{int(100*0.95)}% Confidence Interval: ({ci_lower:.2f}, {ci_upper:.2f})\")\n"
   ]
  },
  {
   "cell_type": "markdown",
   "metadata": {},
   "source": [
    "### Q 10. Write a Python program to calculate the margin of error for a given confidence level using sample"
   ]
  },
  {
   "cell_type": "code",
   "execution_count": 42,
   "metadata": {
    "colab": {
     "base_uri": "https://localhost:8080/"
    },
    "id": "uJAutFR771jj",
    "outputId": "132a8cdc-8138-4501-99c7-b09ac0e88259"
   },
   "outputs": [
    {
     "name": "stdout",
     "output_type": "stream",
     "text": [
      "Margin of Error (95% confidence): 4.571\n"
     ]
    }
   ],
   "source": [
    "\n",
    "\n",
    "import numpy as np\n",
    "from scipy.stats import t\n",
    "\n",
    "def margin_of_error(data, confidence=0.95):\n",
    "    \"\"\"\n",
    "    Calculate the margin of error for the sample mean at given confidence level.\n",
    "\n",
    "    Parameters:\n",
    "    - data: array-like, sample data\n",
    "    - confidence: float, confidence level (default 0.95)\n",
    "\n",
    "    Returns:\n",
    "    - margin_of_error: float\n",
    "    \"\"\"\n",
    "    n = len(data)\n",
    "    std_err = np.std(data, ddof=1) / np.sqrt(n)  # sample standard error\n",
    "    t_crit = t.ppf((1 + confidence) / 2, df=n-1)  # two-tailed t critical value\n",
    "    moe = t_crit * std_err\n",
    "    return moe\n",
    "\n",
    "# Example usage\n",
    "np.random.seed(42)\n",
    "sample = np.random.normal(loc=100, scale=15, size=40)\n",
    "moe = margin_of_error(sample, confidence=0.95)\n",
    "\n",
    "print(f\"Margin of Error (95% confidence): {moe:.3f}\")\n"
   ]
  },
  {
   "cell_type": "markdown",
   "metadata": {},
   "source": [
    "### Q 11. Implement a Bayesian inference method using Bayes' Theorem in Python and explain the process."
   ]
  },
  {
   "cell_type": "code",
   "execution_count": 43,
   "metadata": {
    "colab": {
     "base_uri": "https://localhost:8080/"
    },
    "id": "vb3_4lbC8HWT",
    "outputId": "d5e10102-5b1a-4b60-99b5-54a6692ddc7e"
   },
   "outputs": [
    {
     "name": "stdout",
     "output_type": "stream",
     "text": [
      "Posterior Probability of Disease given Positive Test: 0.1667\n"
     ]
    }
   ],
   "source": [
    "\n",
    "\n",
    "# Simple Bayesian inference example: Disease test scenario\n",
    "\n",
    "def bayes_theorem(prior, likelihood, evidence):\n",
    "    \"\"\"\n",
    "    Calculate the posterior probability using Bayes' Theorem.\n",
    "\n",
    "    Parameters:\n",
    "    - prior: P(H), prior probability of hypothesis H\n",
    "    - likelihood: P(E|H), probability of evidence E given H is true\n",
    "    - evidence: P(E), total probability of evidence\n",
    "\n",
    "    Returns:\n",
    "    - posterior: P(H|E), updated probability of H given evidence E\n",
    "    \"\"\"\n",
    "    posterior = (likelihood * prior) / evidence\n",
    "    return posterior\n",
    "\n",
    "# Example: Disease testing\n",
    "# Prior probability of disease (prevalence)\n",
    "P_disease = 0.01  # 1%\n",
    "\n",
    "# Likelihood: Probability test is positive if disease is present (sensitivity)\n",
    "P_pos_given_disease = 0.99\n",
    "\n",
    "# Probability test is positive if no disease (false positive rate)\n",
    "P_pos_given_no_disease = 0.05\n",
    "\n",
    "# Prior probability of no disease\n",
    "P_no_disease = 1 - P_disease\n",
    "\n",
    "# Total probability of positive test (evidence)\n",
    "P_pos = P_pos_given_disease * P_disease + P_pos_given_no_disease * P_no_disease\n",
    "\n",
    "# Calculate posterior probability: P(disease | positive test)\n",
    "posterior = bayes_theorem(P_disease, P_pos_given_disease, P_pos)\n",
    "\n",
    "print(f\"Posterior Probability of Disease given Positive Test: {posterior:.4f}\")\n"
   ]
  },
  {
   "cell_type": "markdown",
   "metadata": {},
   "source": [
    "### Q 12. Perform a Chi-square test for independence between two categorical variables in Python."
   ]
  },
  {
   "cell_type": "code",
   "execution_count": 44,
   "metadata": {
    "colab": {
     "base_uri": "https://localhost:8080/"
    },
    "id": "bYm9M-2n8Xgs",
    "outputId": "8ec61016-d88d-42f2-ce6f-d1fdc129e7ff"
   },
   "outputs": [
    {
     "name": "stdout",
     "output_type": "stream",
     "text": [
      "Contingency Table:\n",
      "        Yes  No\n",
      "Male     30  10\n",
      "Female   20  40\n",
      "\n",
      "Chi-square Statistic: 15.042\n",
      "P-Value: 0.0001\n",
      "Degrees of Freedom: 1\n",
      "Expected Frequencies:\n",
      "         Yes    No\n",
      "Male    20.0  20.0\n",
      "Female  30.0  30.0\n",
      "\n",
      "Result: Reject the null hypothesis - variables are dependent.\n"
     ]
    }
   ],
   "source": [
    "\n",
    "\n",
    "import numpy as np\n",
    "import pandas as pd\n",
    "from scipy.stats import chi2_contingency\n",
    "\n",
    "# Example contingency table (observed frequencies)\n",
    "# Rows: Gender (Male, Female)\n",
    "# Columns: Preference (Yes, No)\n",
    "data = np.array([[30, 10],\n",
    "                 [20, 40]])\n",
    "\n",
    "# Convert to DataFrame for better visualization (optional)\n",
    "df = pd.DataFrame(data, index=['Male', 'Female'], columns=['Yes', 'No'])\n",
    "print(\"Contingency Table:\")\n",
    "print(df)\n",
    "\n",
    "# Perform Chi-square test for independence\n",
    "chi2, p, dof, expected = chi2_contingency(data)\n",
    "\n",
    "print(f\"\\nChi-square Statistic: {chi2:.3f}\")\n",
    "print(f\"P-Value: {p:.4f}\")\n",
    "print(f\"Degrees of Freedom: {dof}\")\n",
    "print(\"Expected Frequencies:\")\n",
    "print(pd.DataFrame(expected, index=df.index, columns=df.columns))\n",
    "\n",
    "# Interpretation\n",
    "alpha = 0.05\n",
    "if p < alpha:\n",
    "    print(\"\\nResult: Reject the null hypothesis - variables are dependent.\")\n",
    "else:\n",
    "    print(\"\\nResult: Fail to reject the null hypothesis - variables are independent.\")\n"
   ]
  },
  {
   "cell_type": "markdown",
   "metadata": {},
   "source": [
    "### Q 13. Write a Python program to calculate the expected frequencies for a Chi-square test based on observed data."
   ]
  },
  {
   "cell_type": "code",
   "execution_count": 45,
   "metadata": {
    "colab": {
     "base_uri": "https://localhost:8080/"
    },
    "id": "rzw0GMl-8nNh",
    "outputId": "62be5c8c-f7a3-4365-caf8-aa92f41fa012"
   },
   "outputs": [
    {
     "name": "stdout",
     "output_type": "stream",
     "text": [
      "Expected Frequencies:\n",
      "         Category 1  Category 2  Category 3\n",
      "Group 1        18.0        18.0        14.0\n",
      "Group 2        27.0        27.0        21.0\n"
     ]
    }
   ],
   "source": [
    "\n",
    "\n",
    "import numpy as np\n",
    "import pandas as pd\n",
    "\n",
    "# Example observed data (contingency table)\n",
    "observed = np.array([[25, 15, 10],\n",
    "                     [20, 30, 25]])\n",
    "\n",
    "# Calculate row sums and column sums\n",
    "row_sums = observed.sum(axis=1).reshape(-1, 1)\n",
    "col_sums = observed.sum(axis=0).reshape(1, -1)\n",
    "total = observed.sum()\n",
    "\n",
    "# Calculate expected frequencies\n",
    "expected = (row_sums @ col_sums) / total\n",
    "\n",
    "# Display as DataFrame for readability\n",
    "expected_df = pd.DataFrame(expected,\n",
    "                           columns=[f'Category {i+1}' for i in range(observed.shape[1])],\n",
    "                           index=[f'Group {i+1}' for i in range(observed.shape[0])])\n",
    "\n",
    "print(\"Expected Frequencies:\")\n",
    "print(expected_df)\n"
   ]
  },
  {
   "cell_type": "markdown",
   "metadata": {},
   "source": [
    "### Q 14. Perform a goodness-of-fit test using Python to compare the observed data to an expected distribution."
   ]
  },
  {
   "cell_type": "code",
   "execution_count": 46,
   "metadata": {
    "colab": {
     "base_uri": "https://localhost:8080/"
    },
    "id": "pvyHk0bV80oK",
    "outputId": "7c7c2744-2054-40cf-ce70-57a03c8816e6"
   },
   "outputs": [
    {
     "name": "stdout",
     "output_type": "stream",
     "text": [
      "Chi-square Statistic: 5.000\n",
      "P-Value: 0.0821\n",
      "Result: Fail to reject the null hypothesis - observed distribution fits expected.\n"
     ]
    }
   ],
   "source": [
    "\n",
    "\n",
    "import numpy as np\n",
    "from scipy.stats import chisquare\n",
    "\n",
    "# Observed frequencies (example)\n",
    "observed = np.array([50, 30, 20])\n",
    "\n",
    "# Expected frequencies (example)\n",
    "expected = np.array([40, 40, 20])\n",
    "\n",
    "# Perform Chi-square goodness-of-fit test\n",
    "chi2_stat, p_value = chisquare(f_obs=observed, f_exp=expected)\n",
    "\n",
    "print(f\"Chi-square Statistic: {chi2_stat:.3f}\")\n",
    "print(f\"P-Value: {p_value:.4f}\")\n",
    "\n",
    "# Interpretation\n",
    "alpha = 0.05\n",
    "if p_value < alpha:\n",
    "    print(\"Result: Reject the null hypothesis - observed distribution differs from expected.\")\n",
    "else:\n",
    "    print(\"Result: Fail to reject the null hypothesis - observed distribution fits expected.\")\n"
   ]
  }
 ],
 "metadata": {
  "colab": {
   "provenance": []
  },
  "kernelspec": {
   "display_name": "Python 3 (ipykernel)",
   "language": "python",
   "name": "python3"
  },
  "language_info": {
   "codemirror_mode": {
    "name": "ipython",
    "version": 3
   },
   "file_extension": ".py",
   "mimetype": "text/x-python",
   "name": "python",
   "nbconvert_exporter": "python",
   "pygments_lexer": "ipython3",
   "version": "3.12.7"
  }
 },
 "nbformat": 4,
 "nbformat_minor": 4
}
